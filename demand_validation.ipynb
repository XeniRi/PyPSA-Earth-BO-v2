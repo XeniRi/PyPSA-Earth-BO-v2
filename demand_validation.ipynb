{
 "cells": [
  {
   "attachments": {},
   "cell_type": "markdown",
   "metadata": {},
   "source": [
    "# Validation of the PyPSA-Africa Electric Demand\n",
    "\n",
    "This notebooks investigates the data quality of the African electric consumption\n",
    "data by comparing PyPSA, official Nigerian and Our World in Data (incl. BP & Ember).\n",
    "\n",
    "To reproduce the findings obtained in this notebook,\n",
    "please run the full snakemake workflow for the Africa.\n",
    "To do so, please set ``countries = [\"Africa\"]`` in the ``config.yaml`` file.\n",
    "\n",
    "Note. An unoptimized prepared network is sufficient for this notebook. "
   ]
  },
  {
   "attachments": {},
   "cell_type": "markdown",
   "metadata": {},
   "source": [
    "## Preparation"
   ]
  },
  {
   "attachments": {},
   "cell_type": "markdown",
   "metadata": {},
   "source": [
    "### Import packages"
   ]
  },
  {
   "cell_type": "code",
   "execution_count": 2,
   "metadata": {},
   "outputs": [],
   "source": [
    "# import packages\n",
    "\n",
    "import logging\n",
    "import os\n",
    "\n",
    "import pypsa\n",
    "import numpy as np\n",
    "import matplotlib.pyplot as plt\n",
    "import pandas as pd\n",
    "\n",
    "logger = logging.getLogger(__name__)\n",
    "\n",
    "pd.set_option(\"display.max_columns\", None)\n",
    "pd.set_option(\"display.max_colwidth\", 70)"
   ]
  },
  {
   "cell_type": "code",
   "execution_count": 3,
   "metadata": {},
   "outputs": [],
   "source": [
    "red1 = '#891D2D'\n",
    "red2 = '#BA3B31'\n",
    "orange = '#F58221'\n",
    "yellow = '#FCAF19'\n",
    "brown = '#440A15'\n",
    "purple1 = '#3B1053'\n",
    "purple2 = '#76518E'\n",
    "purple3 = '#B69DC7'\n",
    "teal1 = '#032838'\n",
    "teal2 = '#154655'\n",
    "teal3 = '#527D77'\n",
    "teal4 = '#8DB5AF'\n",
    "green1 = '#294839'\n",
    "green2 = '#6E966E'\n",
    "green3 = '#A3BDA3'\n",
    "beige1 = '#927F48'\n",
    "beige2 = '#A89677'\n",
    "beige3 = '#D2CDAD'"
   ]
  },
  {
   "attachments": {},
   "cell_type": "markdown",
   "metadata": {},
   "source": [
    "### Set main directory to root folder"
   ]
  },
  {
   "cell_type": "code",
   "execution_count": 4,
   "metadata": {},
   "outputs": [
    {
     "name": "stdout",
     "output_type": "stream",
     "text": [
      "Cant find the repo path.\n"
     ]
    }
   ],
   "source": [
    "# change current directory\n",
    "import os\n",
    "import sys\n",
    "\n",
    "module_path = os.path.abspath(os.path.join('../../../')) # To import helpers\n",
    "if module_path not in sys.path:\n",
    "    sys.path.append(module_path+\"/scripts\")\n",
    "    \n",
    "from _helpers import sets_path_to_root, three_2_two_digits_country, two_2_three_digits_country\n",
    "\n",
    "sets_path_to_root(\"pypsa-earth-project\")"
   ]
  },
  {
   "attachments": {},
   "cell_type": "markdown",
   "metadata": {},
   "source": [
    "## 1. Load data "
   ]
  },
  {
   "attachments": {},
   "cell_type": "markdown",
   "metadata": {},
   "source": [
    "#### Our World in Data\n",
    "Retrieved from their GitHub: https://github.com/owid/energy-data/tree/master \\\n",
    "Web interface: https://ourworldindata.org/energy \n",
    "\n",
    "Our data sources:\n",
    "- Energy consumption (primary energy, energy mix and energy intensity): this data is sourced from a combination of three sources—the BP Statistical Review of World Energy, the EIA and the SHIFT Data Portal.\n",
    "- Electricity generation (electricity generation, and electricity mix): this data is sourced from a combination of three sources—the BP Statistical Review of World Energy, the Ember – Data Explorer and the Ember European Electricity Review.\n",
    "- Other variables: this data is collected from a variety of sources (United Nations, World Bank, Gapminder, Maddison Project Database, etc.). More information is available in our codebook.\n"
   ]
  },
  {
   "cell_type": "code",
   "execution_count": 5,
   "metadata": {},
   "outputs": [
    {
     "data": {
      "text/html": [
       "<div>\n",
       "<style scoped>\n",
       "    .dataframe tbody tr th:only-of-type {\n",
       "        vertical-align: middle;\n",
       "    }\n",
       "\n",
       "    .dataframe tbody tr th {\n",
       "        vertical-align: top;\n",
       "    }\n",
       "\n",
       "    .dataframe thead th {\n",
       "        text-align: right;\n",
       "    }\n",
       "</style>\n",
       "<table border=\"1\" class=\"dataframe\">\n",
       "  <thead>\n",
       "    <tr style=\"text-align: right;\">\n",
       "      <th></th>\n",
       "      <th>iso_code</th>\n",
       "      <th>country</th>\n",
       "      <th>year</th>\n",
       "      <th>electricity_demand</th>\n",
       "    </tr>\n",
       "  </thead>\n",
       "  <tbody>\n",
       "    <tr>\n",
       "      <th>21888</th>\n",
       "      <td>ZWE</td>\n",
       "      <td>Zimbabwe</td>\n",
       "      <td>2020</td>\n",
       "      <td>9.58</td>\n",
       "    </tr>\n",
       "    <tr>\n",
       "      <th>21889</th>\n",
       "      <td>ZWE</td>\n",
       "      <td>Zimbabwe</td>\n",
       "      <td>2021</td>\n",
       "      <td>9.79</td>\n",
       "    </tr>\n",
       "  </tbody>\n",
       "</table>\n",
       "</div>"
      ],
      "text/plain": [
       "      iso_code   country  year  electricity_demand\n",
       "21888      ZWE  Zimbabwe  2020                9.58\n",
       "21889      ZWE  Zimbabwe  2021                9.79"
      ]
     },
     "execution_count": 5,
     "metadata": {},
     "output_type": "execute_result"
    }
   ],
   "source": [
    "url = \"https://nyc3.digitaloceanspaces.com/owid-public/data/energy/owid-energy-data.csv\"\n",
    "df = pd.read_csv(\"C:/Users/xenia/Desktop/Thesis_Code/Code/pypsa-earth_working/pypsa-earth/documentation/notebooks/validation/owid-energy-data.csv\")\n",
    "df = df.loc[:, [\"iso_code\", \"country\", \"year\", \"electricity_demand\"]]\n",
    "df = df[df[\"iso_code\"].notna()]  # removes antartica\n",
    "#df[\"iso_code_2\"] = df.loc[:, \"iso_code\"].apply(lambda x: three_2_two_digits_country(x))\n",
    "electricity_demand_owid = df\n",
    "electricity_demand_owid.tail(2)"
   ]
  },
  {
   "attachments": {},
   "cell_type": "markdown",
   "metadata": {},
   "source": [
    "#### PyPSA network\n",
    "\n",
    "Requires a solved or unsolved network."
   ]
  },
  {
   "cell_type": "code",
   "execution_count": 8,
   "metadata": {},
   "outputs": [
    {
     "name": "stderr",
     "output_type": "stream",
     "text": [
      "INFO:pypsa.io:Imported network elec_s_4_ec.nc has buses, carriers, generators, lines, links, loads, storage_units, stores\n"
     ]
    },
    {
     "data": {
      "text/plain": [
       "1444.7388390305268"
      ]
     },
     "execution_count": 8,
     "metadata": {},
     "output_type": "execute_result"
    }
   ],
   "source": [
    "solved_network_path = \"C:/Users/xenia/Desktop/Thesis_Code/Code/pypsa-earth_working/pypsa-earth/networks/elec_s_4_ec.nc\"\n",
    "pypsa_network = pypsa.Network(solved_network_path)\n",
    "electricity_demand_pypsa = pypsa_network.loads_t.p_set\n",
    "electricity_demand_pypsa.sum(axis=1).max()"
   ]
  },
  {
   "attachments": {},
   "cell_type": "markdown",
   "metadata": {},
   "source": [
    "# 2. Validate\n",
    "\n",
    "#### Steps:\n",
    "- Align country coverage of dataframe\n",
    "- Pick year of interest for 'Our World in Data'\n",
    "- Align dataframe naming and temporal resolution\n",
    "- Merge dataframe\n"
   ]
  },
  {
   "attachments": {},
   "cell_type": "markdown",
   "metadata": {},
   "source": [
    "Reduce \"Our World in Data\" to contain the same countries as PyPSA"
   ]
  },
  {
   "cell_type": "code",
   "execution_count": 42,
   "metadata": {},
   "outputs": [],
   "source": [
    "country_in_network = (\n",
    "    electricity_demand_pypsa.columns.to_frame()[\"Load\"].apply(lambda x: x[0:2]).values\n",
    ")\n",
    "#electricity_demand_owid_mini = electricity_demand_owid[\n",
    "    #electricity_demand_owid[\"BOL\"].isin(country_in_network)\n",
    "#]"
   ]
  },
  {
   "cell_type": "code",
   "execution_count": 43,
   "metadata": {},
   "outputs": [
    {
     "data": {
      "text/html": [
       "<div>\n",
       "<style scoped>\n",
       "    .dataframe tbody tr th:only-of-type {\n",
       "        vertical-align: middle;\n",
       "    }\n",
       "\n",
       "    .dataframe tbody tr th {\n",
       "        vertical-align: top;\n",
       "    }\n",
       "\n",
       "    .dataframe thead th {\n",
       "        text-align: right;\n",
       "    }\n",
       "</style>\n",
       "<table border=\"1\" class=\"dataframe\">\n",
       "  <thead>\n",
       "    <tr style=\"text-align: right;\">\n",
       "      <th></th>\n",
       "      <th>iso_code</th>\n",
       "      <th>country</th>\n",
       "      <th>year</th>\n",
       "      <th>electricity_demand</th>\n",
       "    </tr>\n",
       "  </thead>\n",
       "  <tbody>\n",
       "    <tr>\n",
       "      <th>2654</th>\n",
       "      <td>BOL</td>\n",
       "      <td>Bolivia</td>\n",
       "      <td>2021</td>\n",
       "      <td>10.59</td>\n",
       "    </tr>\n",
       "  </tbody>\n",
       "</table>\n",
       "</div>"
      ],
      "text/plain": [
       "     iso_code  country  year  electricity_demand\n",
       "2654      BOL  Bolivia  2021               10.59"
      ]
     },
     "execution_count": 43,
     "metadata": {},
     "output_type": "execute_result"
    }
   ],
   "source": [
    "Bolivia_demand = electricity_demand_owid[electricity_demand_owid.iso_code ==\"BOL\"]\n",
    "Bolivia_demand_2021 = Bolivia_demand[Bolivia_demand.year ==2021]\n",
    "Bolivia_demand_2021"
   ]
  },
  {
   "attachments": {},
   "cell_type": "markdown",
   "metadata": {},
   "source": [
    "Create total electric demand in TWh from OWID for year of interest"
   ]
  },
  {
   "attachments": {},
   "cell_type": "markdown",
   "metadata": {},
   "source": []
  },
  {
   "cell_type": "code",
   "execution_count": 44,
   "metadata": {},
   "outputs": [
    {
     "data": {
      "text/html": [
       "<div>\n",
       "<style scoped>\n",
       "    .dataframe tbody tr th:only-of-type {\n",
       "        vertical-align: middle;\n",
       "    }\n",
       "\n",
       "    .dataframe tbody tr th {\n",
       "        vertical-align: top;\n",
       "    }\n",
       "\n",
       "    .dataframe thead th {\n",
       "        text-align: right;\n",
       "    }\n",
       "</style>\n",
       "<table border=\"1\" class=\"dataframe\">\n",
       "  <thead>\n",
       "    <tr style=\"text-align: right;\">\n",
       "      <th></th>\n",
       "      <th>iso_code</th>\n",
       "      <th>country</th>\n",
       "      <th>year</th>\n",
       "      <th>electricity_demand</th>\n",
       "    </tr>\n",
       "  </thead>\n",
       "  <tbody>\n",
       "    <tr>\n",
       "      <th>2654</th>\n",
       "      <td>BOL</td>\n",
       "      <td>Bolivia</td>\n",
       "      <td>2021</td>\n",
       "      <td>10.59</td>\n",
       "    </tr>\n",
       "  </tbody>\n",
       "</table>\n",
       "</div>"
      ],
      "text/plain": [
       "     iso_code  country  year  electricity_demand\n",
       "2654      BOL  Bolivia  2021               10.59"
      ]
     },
     "execution_count": 44,
     "metadata": {},
     "output_type": "execute_result"
    }
   ],
   "source": [
    "year_owid = 2021  # option\n",
    "df = Bolivia_demand_2021\n",
    "df = df[df[\"year\"] == year_owid]\n",
    "electricity_demand_owid_mini = df\n",
    "electricity_demand_owid_mini.head(2)"
   ]
  },
  {
   "attachments": {},
   "cell_type": "markdown",
   "metadata": {},
   "source": [
    "Create total electric demand in TWh from PyPSA for chosen demand year in `config.yaml`"
   ]
  },
  {
   "cell_type": "code",
   "execution_count": 45,
   "metadata": {},
   "outputs": [
    {
     "data": {
      "text/html": [
       "<div>\n",
       "<style scoped>\n",
       "    .dataframe tbody tr th:only-of-type {\n",
       "        vertical-align: middle;\n",
       "    }\n",
       "\n",
       "    .dataframe tbody tr th {\n",
       "        vertical-align: top;\n",
       "    }\n",
       "\n",
       "    .dataframe thead th {\n",
       "        text-align: right;\n",
       "    }\n",
       "</style>\n",
       "<table border=\"1\" class=\"dataframe\">\n",
       "  <thead>\n",
       "    <tr style=\"text-align: right;\">\n",
       "      <th></th>\n",
       "      <th>0</th>\n",
       "    </tr>\n",
       "    <tr>\n",
       "      <th>Load</th>\n",
       "      <th></th>\n",
       "    </tr>\n",
       "  </thead>\n",
       "  <tbody>\n",
       "    <tr>\n",
       "      <th>BO 0</th>\n",
       "      <td>2.365509</td>\n",
       "    </tr>\n",
       "    <tr>\n",
       "      <th>BO 1</th>\n",
       "      <td>2.929574</td>\n",
       "    </tr>\n",
       "    <tr>\n",
       "      <th>BO 2</th>\n",
       "      <td>2.204671</td>\n",
       "    </tr>\n",
       "    <tr>\n",
       "      <th>BO 3</th>\n",
       "      <td>1.955308</td>\n",
       "    </tr>\n",
       "  </tbody>\n",
       "</table>\n",
       "</div>"
      ],
      "text/plain": [
       "             0\n",
       "Load          \n",
       "BO 0  2.365509\n",
       "BO 1  2.929574\n",
       "BO 2  2.204671\n",
       "BO 3  1.955308"
      ]
     },
     "metadata": {},
     "output_type": "display_data"
    },
    {
     "data": {
      "image/png": "[encoded data removed]",
      "text/plain": [
       "<Figure size 800x400 with 1 Axes>"
      ]
     },
     "metadata": {},
     "output_type": "display_data"
    }
   ],
   "source": [
    "regional_demand = pd.DataFrame(electricity_demand_pypsa.sum()/1000000)\n",
    "regional_demand.plot(kind='bar', legend=False, color=purple2,figsize=(8,4))\n",
    "plt.xlabel('Buses')\n",
    "plt.ylabel('Load in TWh')\n",
    "plt.xticks(rotation = 0)\n",
    "\n",
    "display(regional_demand)\n",
    "\n",
    "#short the columns to only two digit (for groupby in next step)\n",
    "electricity_demand_pypsa.columns = (\n",
    "    electricity_demand_pypsa.columns.to_frame()[\"Load\"].apply(lambda x: x[0:2]).values\n",
    ")\n",
    "#display(electricity_demand_pypsa)\n",
    "\n"
   ]
  },
  {
   "attachments": {},
   "cell_type": "markdown",
   "metadata": {},
   "source": [
    "Align PyPSA dataframe to 'Our World in Data'"
   ]
  },
  {
   "cell_type": "code",
   "execution_count": 46,
   "metadata": {},
   "outputs": [
    {
     "data": {
      "text/html": [
       "<div>\n",
       "<style scoped>\n",
       "    .dataframe tbody tr th:only-of-type {\n",
       "        vertical-align: middle;\n",
       "    }\n",
       "\n",
       "    .dataframe tbody tr th {\n",
       "        vertical-align: top;\n",
       "    }\n",
       "\n",
       "    .dataframe thead th {\n",
       "        text-align: right;\n",
       "    }\n",
       "</style>\n",
       "<table border=\"1\" class=\"dataframe\">\n",
       "  <thead>\n",
       "    <tr style=\"text-align: right;\">\n",
       "      <th></th>\n",
       "      <th>0</th>\n",
       "    </tr>\n",
       "  </thead>\n",
       "  <tbody>\n",
       "    <tr>\n",
       "      <th>BO</th>\n",
       "      <td>9.45506</td>\n",
       "    </tr>\n",
       "  </tbody>\n",
       "</table>\n",
       "</div>"
      ],
      "text/plain": [
       "          0\n",
       "BO  9.45506"
      ]
     },
     "metadata": {},
     "output_type": "display_data"
    },
    {
     "data": {
      "text/html": [
       "<div>\n",
       "<style scoped>\n",
       "    .dataframe tbody tr th:only-of-type {\n",
       "        vertical-align: middle;\n",
       "    }\n",
       "\n",
       "    .dataframe tbody tr th {\n",
       "        vertical-align: top;\n",
       "    }\n",
       "\n",
       "    .dataframe thead th {\n",
       "        text-align: right;\n",
       "    }\n",
       "</style>\n",
       "<table border=\"1\" class=\"dataframe\">\n",
       "  <thead>\n",
       "    <tr style=\"text-align: right;\">\n",
       "      <th></th>\n",
       "      <th>iso_code</th>\n",
       "      <th>electricity_demand</th>\n",
       "      <th>year</th>\n",
       "      <th>country</th>\n",
       "    </tr>\n",
       "  </thead>\n",
       "  <tbody>\n",
       "    <tr>\n",
       "      <th>0</th>\n",
       "      <td>BOL</td>\n",
       "      <td>9.45506</td>\n",
       "      <td>2030</td>\n",
       "      <td>Bolivia</td>\n",
       "    </tr>\n",
       "  </tbody>\n",
       "</table>\n",
       "</div>"
      ],
      "text/plain": [
       "  iso_code  electricity_demand  year  country\n",
       "0      BOL             9.45506  2030  Bolivia"
      ]
     },
     "execution_count": 46,
     "metadata": {},
     "output_type": "execute_result"
    }
   ],
   "source": [
    "import yaml\n",
    "\n",
    "with open(\"C:/Users/xenia/Desktop/Thesis_Code/Code/pypsa-earth_working/pypsa-earth/config.yaml\", \"r\") as file:\n",
    "    config = yaml.safe_load(file)\n",
    "\n",
    "df = electricity_demand_pypsa\n",
    "#df.groupby()\n",
    "df = pd.DataFrame(\n",
    "    (df.sum().T.groupby([df.columns]).sum() / 10**6).round(6)\n",
    ")  # MWh to TWh# \n",
    "display(df)\n",
    "df = df.reset_index()\n",
    "df = df.rename(columns={0: \"electricity_demand\", \"index\": \"iso_code\"})\n",
    "df[\"year\"] = config[\"load_options\"][\"prediction_year\"]\n",
    "df[\"iso_code\"] = df.loc[:, \"iso_code\"].apply(lambda x: two_2_three_digits_country(x))\n",
    "\n",
    "map_dic = pd.Series(\n",
    "    electricity_demand_owid_mini.country.values,\n",
    "    index=electricity_demand_owid_mini.iso_code,\n",
    ").to_dict()\n",
    "df[\"country\"] = df[\"iso_code\"].map(map_dic)\n",
    "electricity_demand_pypsa = df\n",
    "electricity_demand_pypsa.head(2)"
   ]
  },
  {
   "attachments": {},
   "cell_type": "markdown",
   "metadata": {},
   "source": []
  },
  {
   "attachments": {},
   "cell_type": "markdown",
   "metadata": {},
   "source": [
    "Merge dataframes"
   ]
  },
  {
   "cell_type": "code",
   "execution_count": 36,
   "metadata": {},
   "outputs": [
    {
     "data": {
      "text/html": [
       "<div>\n",
       "<style scoped>\n",
       "    .dataframe tbody tr th:only-of-type {\n",
       "        vertical-align: middle;\n",
       "    }\n",
       "\n",
       "    .dataframe tbody tr th {\n",
       "        vertical-align: top;\n",
       "    }\n",
       "\n",
       "    .dataframe thead th {\n",
       "        text-align: right;\n",
       "    }\n",
       "</style>\n",
       "<table border=\"1\" class=\"dataframe\">\n",
       "  <thead>\n",
       "    <tr style=\"text-align: right;\">\n",
       "      <th></th>\n",
       "      <th>iso_code</th>\n",
       "      <th>electricity_demand</th>\n",
       "      <th>year</th>\n",
       "      <th>country</th>\n",
       "      <th>source</th>\n",
       "    </tr>\n",
       "  </thead>\n",
       "  <tbody>\n",
       "    <tr>\n",
       "      <th>0</th>\n",
       "      <td>BOL</td>\n",
       "      <td>9.4551</td>\n",
       "      <td>2030</td>\n",
       "      <td>Bolivia</td>\n",
       "      <td>PyPSA 2030</td>\n",
       "    </tr>\n",
       "    <tr>\n",
       "      <th>2654</th>\n",
       "      <td>BOL</td>\n",
       "      <td>10.5900</td>\n",
       "      <td>2021</td>\n",
       "      <td>Bolivia</td>\n",
       "      <td>Our World in Data 2021</td>\n",
       "    </tr>\n",
       "  </tbody>\n",
       "</table>\n",
       "</div>"
      ],
      "text/plain": [
       "     iso_code  electricity_demand  year  country                  source\n",
       "0         BOL              9.4551  2030  Bolivia              PyPSA 2030\n",
       "2654      BOL             10.5900  2021  Bolivia  Our World in Data 2021"
      ]
     },
     "execution_count": 36,
     "metadata": {},
     "output_type": "execute_result"
    }
   ],
   "source": [
    "h = config[\"load_options\"][\"prediction_year\"]\n",
    "electricity_demand_pypsa[\"source\"] = f\"PyPSA {h}\"\n",
    "electricity_demand_owid_mini[\"source\"] = f\"Our World in Data {year_owid}\"\n",
    "df_merge = pd.concat([electricity_demand_pypsa, electricity_demand_owid_mini])\n",
    "df_merge"
   ]
  },
  {
   "cell_type": "code",
   "execution_count": 37,
   "metadata": {},
   "outputs": [
    {
     "data": {
      "image/png": "[encoded data removed]",
      "text/plain": [
       "<Figure size 3738.25x800 with 1 Axes>"
      ]
     },
     "metadata": {},
     "output_type": "display_data"
    }
   ],
   "source": [
    "import seaborn as sns\n",
    "import matplotlib.pyplot as plt\n",
    "\n",
    "\n",
    "sns.set_theme(style=\"whitegrid\", font_scale=2.5)\n",
    "\n",
    "# shorten names\n",
    "df_merge.loc[df_merge[\"country\"] == \"Democratic Republic of Congo\", \"country\"] = \"DRC\"\n",
    "df_merge.loc[df_merge[\"country\"] == \"Central African Republic\", \"country\"] = \"CAR\"\n",
    "\n",
    "# split dataframe. No equal split possible since 'Our World in Data' misses \"EH\" == Western Sahara\n",
    "df_merge1 = (\n",
    "    df_merge.sort_values(\"country\").iloc[0:46].sort_values(\"source\", ascending=False)\n",
    ")\n",
    "df_merge2 = (\n",
    "    df_merge.sort_values(\"country\")\n",
    "    .iloc[46:]\n",
    "    .sort_values(\"source\", ascending=False)\n",
    "    .sort_values(\"country\")\n",
    ")\n",
    "\n",
    "# Initialize the matplotlib figure\n",
    "ax = sns.catplot(\n",
    "    x=\"country\",\n",
    "    y=\"electricity_demand\",\n",
    "    hue=\"source\",\n",
    "    data=df_merge1,\n",
    "    palette=\"Blues_d\",\n",
    "    kind=\"bar\",\n",
    "    height=8,\n",
    "    aspect=4,\n",
    ")\n",
    "ax.set_xticklabels(rotation=0)\n",
    "sns.move_legend(ax, \"upper right\", bbox_to_anchor=(0.85, 0.9), frameon=True, title=None)\n",
    "sns.despine(left=True, bottom=True)\n",
    "ax.set(xlabel=None, ylabel=\"Annual Electricity demand [TWh]\", ylim=(0, 20))\n",
    "ax.savefig(\"demand-validation-part1.pdf\", bbox_inches=\"tight\")\n",
    "\n",
    "# ax = sns.catplot(\n",
    "#    x=\"country\",\n",
    "#    y=\"electricity_demand\",\n",
    "#    hue=\"source\",\n",
    "#    data=df_merge2,\n",
    "#    palette=\"Blues_d\",\n",
    "#    kind=\"bar\",\n",
    "#    height=8,\n",
    "#    aspect=4,\n",
    "#)\n",
    "#ax.set_xticklabels(rotation=90)\n",
    "#sns.move_legend(ax, \"upper right\", bbox_to_anchor=(0.85, 0.9), frameon=True, title=None)\n",
    "#sns.despine(left=True, bottom=True)\n",
    "#ax.set(xlabel=None, ylabel=\"Annual Electricity Demand [TWh]\", ylim=(0, 500))\n",
    "#ax.savefig(\"demand-validation-part2.pdf\", bbox_inches=\"tight\")\n",
    "\n",
    "\n",
    "#sns.set_theme(style=\"whitegrid\", font_scale=3.3)\n",
    "#ax = sns.catplot(\n",
    "#    x=\"country\",\n",
    "#    y=\"electricity_demand\",\n",
    "#    hue=\"source\",\n",
    "#    data=df_merge,\n",
    "#    palette=\"Blues_d\",\n",
    "#    kind=\"bar\",\n",
    "#    height=8,\n",
    "#    aspect=4,\n",
    "#)\n",
    "\n",
    "#ax.set_xticklabels(rotation=90)\n",
    "#sns.move_legend(\n",
    "#    ax, \"upper right\", bbox_to_anchor=(0.75, 0.94), frameon=True, title=None\n",
    "#)\n",
    "#sns.despine(left=True, bottom=False)\n",
    "#ax.set(xlabel=None, ylabel=\"Electricity Demand [TWh/a]\", ylim=(0, 500))\n",
    "#ax.savefig(\"demand-validation-part.pdf\", bbox_inches='tight')"
   ]
  },
  {
   "cell_type": "code",
   "execution_count": 38,
   "metadata": {},
   "outputs": [
    {
     "name": "stderr",
     "output_type": "stream",
     "text": [
      "C:\\Users\\xenia\\AppData\\Local\\Temp\\ipykernel_17300\\4278182372.py:4: FutureWarning: The default value of numeric_only in DataFrameGroupBy.sum is deprecated. In a future version, numeric_only will default to False. Either specify numeric_only or select only columns which should be valid for the function.\n",
      "  df_merge.groupby(by=\"source\").sum().drop(columns=\"year\").reset_index()\n"
     ]
    },
    {
     "data": {
      "text/html": [
       "<div>\n",
       "<style scoped>\n",
       "    .dataframe tbody tr th:only-of-type {\n",
       "        vertical-align: middle;\n",
       "    }\n",
       "\n",
       "    .dataframe tbody tr th {\n",
       "        vertical-align: top;\n",
       "    }\n",
       "\n",
       "    .dataframe thead th {\n",
       "        text-align: right;\n",
       "    }\n",
       "</style>\n",
       "<table border=\"1\" class=\"dataframe\">\n",
       "  <thead>\n",
       "    <tr style=\"text-align: right;\">\n",
       "      <th></th>\n",
       "      <th>source</th>\n",
       "      <th>electricity_demand</th>\n",
       "    </tr>\n",
       "  </thead>\n",
       "  <tbody>\n",
       "    <tr>\n",
       "      <th>0</th>\n",
       "      <td>Our World in Data 2021</td>\n",
       "      <td>10.5900</td>\n",
       "    </tr>\n",
       "    <tr>\n",
       "      <th>1</th>\n",
       "      <td>PyPSA 2030</td>\n",
       "      <td>9.4551</td>\n",
       "    </tr>\n",
       "    <tr>\n",
       "      <th>0</th>\n",
       "      <td>IRENA 2030</td>\n",
       "      <td>1924.0000</td>\n",
       "    </tr>\n",
       "    <tr>\n",
       "      <th>1</th>\n",
       "      <td>Alova et al. 2030</td>\n",
       "      <td>1877.0000</td>\n",
       "    </tr>\n",
       "  </tbody>\n",
       "</table>\n",
       "</div>"
      ],
      "text/plain": [
       "                   source  electricity_demand\n",
       "0  Our World in Data 2021             10.5900\n",
       "1              PyPSA 2030              9.4551\n",
       "0              IRENA 2030           1924.0000\n",
       "1       Alova et al. 2030           1877.0000"
      ]
     },
     "execution_count": 38,
     "metadata": {},
     "output_type": "execute_result"
    },
    {
     "data": {
      "image/png": "[encoded data removed]",
      "text/plain": [
       "<Figure size 640x480 with 1 Axes>"
      ]
     },
     "metadata": {},
     "output_type": "display_data"
    }
   ],
   "source": [
    "sns.set_theme(style=\"whitegrid\", font_scale=1)\n",
    "\n",
    "african_total_consumption = (\n",
    "    df_merge.groupby(by=\"source\").sum().drop(columns=\"year\").reset_index()\n",
    ")\n",
    "extra = pd.DataFrame(\n",
    "    data={\n",
    "        \"source\": [\"IRENA 2030\", \"Alova et al. 2030\"],\n",
    "        \"electricity_demand\": [1004 + 920, 1877],\n",
    "    }\n",
    ")\n",
    "# https://www.irena.org/-/media/Files/IRENA/Agency/Publication/2015/IRENA_Africa_2030_REmap_2015_low-res.pdf\n",
    "# https://www.nature.com/articles/s41560-020-00755-9\n",
    "\n",
    "african_total_consumption = pd.concat([african_total_consumption, extra])\n",
    "african_total_consumption.plot.scatter(\n",
    "    x=\"source\", y=\"electricity_demand\", s=\"electricity_demand\"\n",
    ")\n",
    "african_total_consumption"
   ]
  },
  {
   "cell_type": "code",
   "execution_count": null,
   "metadata": {},
   "outputs": [],
   "source": []
  },
  {
   "cell_type": "code",
   "execution_count": null,
   "metadata": {},
   "outputs": [],
   "source": []
  }
 ],
 "metadata": {
  "kernelspec": {
   "display_name": "Python 3.9.15 ('pypsa-earth')",
   "language": "python",
   "name": "python3"
  },
  "language_info": {
   "codemirror_mode": {
    "name": "ipython",
    "version": 3
   },
   "file_extension": ".py",
   "mimetype": "text/x-python",
   "name": "python",
   "nbconvert_exporter": "python",
   "pygments_lexer": "ipython3",
   "version": "3.10.10"
  },
  "vscode": {
   "interpreter": {
    "hash": "4bfd0647aac9d6062a08fe26bbfffd40985f1731d368a98fdd492e2c963157f6"
   }
  }
 },
 "nbformat": 4,
 "nbformat_minor": 4
}
