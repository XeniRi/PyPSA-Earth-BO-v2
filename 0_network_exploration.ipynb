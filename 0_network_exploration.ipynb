{
 "cells": [
  {
   "attachments": {},
   "cell_type": "markdown",
   "metadata": {},
   "source": [
    "# Plotting PyPSA networks along the workflow\n",
    "\n",
    "### Jupyter scripts need to be improved\n",
    "\n",
    "In this script, the ouputs of the PyPSA networks calculated in the Data Workflow are computed.\n",
    "In particular, the considered outputs are of the following scripts:\n",
    "- download_osm_data\n",
    "- clean_osm_data\n",
    "- osm_build_network\n",
    "- base_network\n",
    "- add_electricity\n",
    "- simplify_network\n",
    "- cluster_network\n",
    "\n",
    "In the following, the output networks described by the files are loaded and plotted by using `hvplot` package.\n",
    "Such package enables a more interactive scouting of the files, which simplifies the learning phase and debugging process, when needed."
   ]
  },
  {
   "attachments": {},
   "cell_type": "markdown",
   "metadata": {},
   "source": [
    "## Change the current directory to the main package folder"
   ]
  },
  {
   "cell_type": "code",
   "execution_count": null,
   "metadata": {},
   "outputs": [],
   "source": [
    "# Specify the current directory\n",
    "import sys\n",
    "import os\n",
    "\n",
    "module_path = os.path.abspath(os.path.join('../../')) # To import helpers\n",
    "if module_path not in sys.path:\n",
    "    sys.path.append(module_path+\"/pypsa-earth/scripts\")\n",
    "    \n",
    "#from _helpers import sets_path_to_root\n",
    "\n",
    "#sets_path_to_root(\"pypsa-earth-project\")"
   ]
  },
  {
   "attachments": {},
   "cell_type": "markdown",
   "metadata": {},
   "source": [
    "## Specify file paths of the files related to the scripts"
   ]
  },
  {
   "cell_type": "code",
   "execution_count": null,
   "metadata": {},
   "outputs": [
    {
     "name": "stdout",
     "output_type": "stream",
     "text": [
      "c:/Users/xenia/Desktop/Thesis_Code/Code/pypsa-earth_working/pypsa-earth/resources/osm/raw/all_raw_substations.geojson\n"
     ]
    }
   ],
   "source": [
    "# file paths of download_osm_data outputs\n",
    "\n",
    "home = \"c:/Users/xenia/Desktop\"\n",
    "substations_ODD_path = (\n",
    "    home + \"/osm/all_raw_substations.geojson\"\n",
    ")\n",
    "print(substations_ODD_path)\n",
    "lines_ODD_path = home + \"/osm/all_raw_lines.geojson\"\n",
    "# file paths of clean_osm_data outputs\n",
    "substations_ODC_path = (\n",
    "    home + \"/osm/all_clean_substations.geojson\"\n",
    ")\n",
    "lines_ODC_path = home + \"/osm/all_clean_lines.geojson\"\n",
    "# file paths of osm_build_network outputs\n",
    "substations_OBN_path = (\n",
    "   home + \"/osm/all_buses_build_network.csv\"\n",
    ")\n",
    "lines_OBN_path = (\n",
    "    home + \"/osm/all_lines_build_network.csv\"\n",
    ")\n",
    "transformer_OBN_path = (\n",
    "    home + \"/osm/all_transformers_build_network.csv\"\n",
    ")\n",
    "# base_network file path\n",
    "network_path_b = home + \"/pypsa-earth/networks/base.nc\"\n",
    "# add_electricity file path\n",
    "network_path_a = home + \"/pypsa-earth/networks/elec.nc\"\n",
    "# simplify_network file path\n",
    "network_path_s = home + \"/pypsa-earth/networks/elec_s.nc\"\n",
    "# cluster_network file path\n",
    "network_path_c = home + \"/pypsa-earth/networks/elec_s_4.nc\""
   ]
  },
  {
   "attachments": {},
   "cell_type": "markdown",
   "metadata": {},
   "source": [
    "## Load python packages"
   ]
  },
  {
   "cell_type": "code",
   "execution_count": null,
   "metadata": {},
   "outputs": [],
   "source": [
    "import logging\n",
    "import os\n",
    "\n",
    "import pypsa\n",
    "import yaml\n",
    "import pandas as pd\n",
    "import geopandas as gpd\n",
    "import geoviews as gv\n",
    "import hvplot.pandas\n",
    "import numpy as np\n",
    "import scipy as sp\n",
    "import networkx as nx\n",
    "import matplotlib as plt\n",
    "import holoviews as hv\n",
    "\n",
    "from scipy.sparse import csgraph\n",
    "from itertools import product\n",
    "\n",
    "from shapely.geometry import Point, LineString\n",
    "import shapely, shapely.prepared\n",
    "from shapely.wkt import loads\n",
    "import shapely\n",
    "import warnings\n",
    "from shapely.errors import ShapelyDeprecationWarning\n",
    "warnings.filterwarnings(\"ignore\", category=ShapelyDeprecationWarning) # Ignore Shapely warnings\n",
    "\n",
    "logger = logging.getLogger(__name__)\n",
    "\n",
    "pd.set_option(\"display.max_columns\", None)\n",
    "pd.set_option(\"display.max_colwidth\", 70)"
   ]
  },
  {
   "attachments": {},
   "cell_type": "markdown",
   "metadata": {},
   "source": [
    "## Plot network of download_osm_data\n",
    "\n",
    "download_osm_data is the script that downloads the raw OSM data\n",
    "In particular, the main outputs of the script, being the substations and lines data, are loaded and then plotted.\n",
    "- `df_substations_osm_raw`: is the geodataframe related to the substations\n",
    "- `df_lines_osm_raw`: is the geodataframe related to the lines\n",
    "\n",
    "The package `hvplot` enables to zoom in the image and enables to better investigate the result of the analysis.\n",
    "Therefore, it has been used as detailed below."
   ]
  },
  {
   "cell_type": "code",
   "execution_count": 18,
   "metadata": {},
   "outputs": [
    {
     "name": "stderr",
     "output_type": "stream",
     "text": [
      "WARNING:bokeh.core.validation.check:W-1005 (FIXED_SIZING_MODE): 'fixed' sizing mode requires width and height to be set: Row(id='2078', ...)\n"
     ]
    }
   ],
   "source": [
    "# load substation geodataframe\n",
    "df_substations_osm_raw = gpd.read_file(substations_ODD_path)\n",
    "# load lines geodataframe\n",
    "df_lines_osm_raw = gpd.read_file(lines_ODD_path)\n",
    "\n",
    "# hvplot\n",
    "hhosmraw = df_substations_osm_raw.hvplot(\n",
    "    geo=True,\n",
    "    size=10,  # buses[\"tag_area\"]**(0.5)/10,\n",
    "    frame_height=750,\n",
    "    alpha=0.4,\n",
    "    tiles=\"CartoLight\",\n",
    "    color=\"orange\",\n",
    ") * df_lines_osm_raw.hvplot(geo=True, alpha=0.4,).opts(\n",
    "    active_tools=[\"pan\", \"wheel_zoom\"]\n",
    ")\n",
    "# display (hhosmraw)     # show plot in the notebook\n",
    "hv.save(hhosmraw, home +\"/pypsa-earth/documentation/osm_raw_network.html\"); # save plot in the path here"
   ]
  },
  {
   "attachments": {},
   "cell_type": "markdown",
   "metadata": {},
   "source": [
    "## Plot network of clean_osm_data\n",
    "\n",
    "clean_osm_data is the script that loads the raw OSM data and performs simple cleaning, such as renaming columns to adhere with PyPSA format, cleaning Nones/NaNs, etc.\n",
    "In particular, the main outputs of the script, being the substations and lines data, are loaded and then plotted.\n",
    "- `df_substations_osm_clean`: is the geodataframe related to the substations\n",
    "- `df_lines_osm_clean`: is the geodataframe related to the lines\n",
    "\n",
    "The package `hvplot` enables to zoom in the image and enables to better investigate the result of the analysis.\n",
    "Therefore, it has been used as detailed below."
   ]
  },
  {
   "cell_type": "code",
   "execution_count": 19,
   "metadata": {},
   "outputs": [
    {
     "name": "stderr",
     "output_type": "stream",
     "text": [
      "WARNING:bokeh.core.validation.check:W-1005 (FIXED_SIZING_MODE): 'fixed' sizing mode requires width and height to be set: Row(id='2257', ...)\n"
     ]
    }
   ],
   "source": [
    "# load substation geodataframe\n",
    "df_substations_osm_clean = gpd.read_file(substations_ODC_path)\n",
    "# load lines geodataframe\n",
    "df_lines_osm_clean = gpd.read_file(lines_ODC_path)\n",
    "\n",
    "# hvplot\n",
    "hhosm = df_substations_osm_clean.hvplot(\n",
    "    geo=True,\n",
    "    size=10,  # buses[\"tag_area\"]**(0.5)/10,\n",
    "    frame_height=750,\n",
    "    alpha=0.4,\n",
    "    tiles=\"CartoLight\",\n",
    "    color=\"orange\",\n",
    "    # hover_cols=['bus_id'],\n",
    ") * df_lines_osm_clean.hvplot(\n",
    "    geo=True,\n",
    "    alpha=0.4,\n",
    "    # hover_cols=['line_id'],\n",
    ").opts(\n",
    "    active_tools=[\"pan\", \"wheel_zoom\"]\n",
    ")\n",
    "# display (hhosmraw)     # show plot in the notebook\n",
    "hv.save(hhosm, home + \"/pypsa-earth/documentation/osm_clean_network.html\"); # save plot in the path here"
   ]
  },
  {
   "attachments": {},
   "cell_type": "markdown",
   "metadata": {},
   "source": [
    "## Plot network of osm_build_network\n",
    "\n",
    "osm_build_network is the script that loads the cleaned OSM data and performs some refinings to prepare the input data that are loaded by the build_base_network\n",
    "In particular, the main outputs of the script, being the substations and lines data, are loaded and then plotted.\n",
    "- `df_substations_osm_build`: is the geodataframe related to the substations\n",
    "- `df_lines_osm_build`: is the geodataframe related to the lines\n",
    "\n",
    "The package `hvplot` enables to zoom in the image and enables to better investigate the result of the analysis.\n",
    "Therefore, it has been used as detailed below."
   ]
  },
  {
   "cell_type": "code",
   "execution_count": 21,
   "metadata": {},
   "outputs": [
    {
     "name": "stderr",
     "output_type": "stream",
     "text": [
      "WARNING:bokeh.core.validation.check:W-1005 (FIXED_SIZING_MODE): 'fixed' sizing mode requires width and height to be set: Row(id='2615', ...)\n"
     ]
    }
   ],
   "source": [
    "# load substations\n",
    "substations_OBN = gpd.read_file(\n",
    "    substations_OBN_path, GEOM_POSSIBLE_NAMES=\"geometry\", KEEP_GEOM_COLUMNS=\"NO\"\n",
    ")\n",
    "substations_OBN[\"geometry\"] = gpd.points_from_xy(\n",
    "    pd.to_numeric(substations_OBN.lon, downcast=\"float\"),\n",
    "    pd.to_numeric(substations_OBN.lat, downcast=\"float\"),\n",
    ")\n",
    "substations_OBN = substations_OBN.set_crs(epsg=4326, inplace=True)\n",
    "# load lines\n",
    "lines_OBN = gpd.read_file(\n",
    "    lines_OBN_path, GEOM_POSSIBLE_NAMES=\"geometry\", KEEP_GEOM_COLUMNS=\"NO\"\n",
    ").set_crs(epsg=4326, inplace=True)\n",
    "\n",
    "\n",
    "# hvplot\n",
    "hho = substations_OBN.hvplot(\n",
    "    geo=True,\n",
    "    size=10,  # buses[\"tag_area\"]**(0.5)/10,\n",
    "    frame_height=750,\n",
    "    alpha=0.4,\n",
    "    tiles=\"CartoLight\",\n",
    "    color=\"orange\",\n",
    "    # hover_cols=['bus_id']\n",
    ") * lines_OBN.hvplot(\n",
    "    geo=True,\n",
    "    alpha=0.4,\n",
    "    # hover_cols='line_id'\n",
    ").opts(\n",
    "    active_tools=[\"pan\", \"wheel_zoom\"]\n",
    ")\n",
    "# display(hho)\n",
    "hv.save(hho, home +\"/pypsa-earth/documentation/osm_build_network.html\");"
   ]
  },
  {
   "attachments": {},
   "cell_type": "markdown",
   "metadata": {},
   "source": [
    "## Plot network of base_network\n",
    "\n",
    "`base_network` is the script that loads the cleaned OSM data, thus the map shown above, and prepare a preliminary PyPSA model that is later used by all scripts downstream the workflow.\n",
    "In particular, in order to compare the network structure, the substations and lines datasets are loaded\n",
    "- `n_b` is the main PyPSA network model related to `base_network`\n",
    "- `n_b.buses` is the geodataframe related to the substations\n",
    "- `n_b.lines` is the geodataframe related to the lines\n",
    "\n",
    "The package `hvplot` is used to show the model."
   ]
  },
  {
   "cell_type": "code",
   "execution_count": 23,
   "metadata": {},
   "outputs": [
    {
     "name": "stderr",
     "output_type": "stream",
     "text": [
      "INFO:pypsa.io:Imported network base.nc has buses, lines, transformers\n",
      "WARNING:bokeh.core.validation.check:W-1005 (FIXED_SIZING_MODE): 'fixed' sizing mode requires width and height to be set: Row(id='3005', ...)\n"
     ]
    }
   ],
   "source": [
    "# base_network PyPSA model\n",
    "n_b = pypsa.Network(network_path_b)\n",
    "\n",
    "# lines dataframe\n",
    "lines_b = n_b.lines\n",
    "lines_b[\"geometry\"] = lines_b[\"geometry\"].apply(loads)\n",
    "lines_b = gpd.GeoDataFrame(lines_b, crs=\"epsg:4326\")\n",
    "\n",
    "# buses dataframe\n",
    "buses_b = n_b.buses\n",
    "buses_b[\"geometry\"] = gpd.points_from_xy(buses_b.lon, buses_b.lat)\n",
    "buses_b = gpd.GeoDataFrame(buses_b, crs=\"epsg:4326\")\n",
    "\n",
    "# transformer dataframe\n",
    "transformer_b = gpd.read_file(\n",
    "    transformer_OBN_path, GEOM_POSSIBLE_NAMES=\"geometry\", KEEP_GEOM_COLUMNS=\"NO\"\n",
    ")\n",
    "\n",
    "# hvplot\n",
    "hhb = (\n",
    "    buses_b.hvplot(\n",
    "        geo=True,\n",
    "        size=10,  # buses[\"tag_area\"]**(0.5)/10,\n",
    "        frame_height=750,\n",
    "        alpha=0.4,\n",
    "        tiles=\"CartoLight\",\n",
    "        color=\"orange\",\n",
    "    )\n",
    "    * lines_b.hvplot(geo=True, alpha=0.4).opts(active_tools=[\"pan\", \"wheel_zoom\"])\n",
    "    * transformer_b.hvplot(geo=True, color=\"red\", alpha=0.4).opts(\n",
    "        active_tools=[\"pan\", \"wheel_zoom\"]\n",
    "    )\n",
    ")\n",
    "# display (hhb)\n",
    "hv.save(hhb, home +\"/pypsa-earth/documentation/base_network.html\");"
   ]
  },
  {
   "attachments": {},
   "cell_type": "markdown",
   "metadata": {},
   "source": [
    "## Plot network of add_electricity\n",
    "\n",
    "`add_electricity` adds generators and load to the `base_network` model, as such no differences are expected with respect to the output model of `base_network`\n",
    "\n",
    "Similarly to the previous cases:\n",
    "- `n_a` is the PyPSA network model\n",
    "- `n_a.lines` is the lines dataframe\n",
    "- `n_a.buses` is the buses dataframe"
   ]
  },
  {
   "cell_type": "code",
   "execution_count": 24,
   "metadata": {},
   "outputs": [
    {
     "name": "stderr",
     "output_type": "stream",
     "text": [
      "INFO:pypsa.io:Imported network elec.nc has buses, carriers, generators, lines, loads, storage_units, transformers\n",
      "WARNING:bokeh.core.validation.check:W-1005 (FIXED_SIZING_MODE): 'fixed' sizing mode requires width and height to be set: Row(id='3216', ...)\n"
     ]
    }
   ],
   "source": [
    "n_a = pypsa.Network(network_path_a)\n",
    "\n",
    "# lines dataframe\n",
    "lines_a = n_a.lines\n",
    "lines_a[\"geometry\"] = lines_a[\"geometry\"].apply(loads)\n",
    "lines_a = gpd.GeoDataFrame(lines_a, crs=\"epsg:4326\")\n",
    "lines_a[\"line_id\"] = pd.Series(lines_a.index.map(str), index=lines_a.index)\n",
    "\n",
    "# buses dataframe\n",
    "buses_a = n_a.buses\n",
    "buses_a[\"geometry\"] = gpd.points_from_xy(buses_a.lon, buses_a.lat)\n",
    "buses_a = gpd.GeoDataFrame(buses_a, crs=\"epsg:4326\")\n",
    "\n",
    "# hvplot\n",
    "hha = buses_a.hvplot(\n",
    "    geo=True,\n",
    "    size=10,  # buses[\"tag_area\"]**(0.5)/10,\n",
    "    frame_height=750,\n",
    "    alpha=0.4,\n",
    "    tiles=\"CartoLight\",\n",
    "    color=\"orange\",\n",
    ") * lines_a.hvplot(geo=True, alpha=0.4, hover_cols=\"line_id\").opts(\n",
    "    active_tools=[\"pan\", \"wheel_zoom\"]\n",
    ")\n",
    "# display (hha)\n",
    "hv.save(hha, home + \"/pypsa-earth/documentation/add_electricity.html\");"
   ]
  },
  {
   "attachments": {},
   "cell_type": "markdown",
   "metadata": {},
   "source": [
    "## Plot network of simplify_network\n",
    "\n",
    "`simplify_network` modifies the structure of the network obtained from `add_electricity` to remove dead-hends and group disconnected nodes that are not connected with the main network.\n",
    "The differences between the networks by `simplify_network` and `add_electricity` can be easily scouted by comparing the hvplots of the previous cell and the following.\n",
    "\n",
    "Similarly to the previous cases:\n",
    "- `n_s` is the PyPSA network model\n",
    "- `n_s.lines` is the lines dataframe\n",
    "- `n_s.buses` is the buses dataframe"
   ]
  },
  {
   "cell_type": "code",
   "execution_count": 25,
   "metadata": {},
   "outputs": [
    {
     "name": "stderr",
     "output_type": "stream",
     "text": [
      "INFO:pypsa.io:Imported network elec_s.nc has buses, carriers, generators, lines, loads, storage_units\n",
      "WARNING:bokeh.core.validation.check:W-1005 (FIXED_SIZING_MODE): 'fixed' sizing mode requires width and height to be set: Row(id='3397', ...)\n"
     ]
    }
   ],
   "source": [
    "n_s = pypsa.Network(network_path_s)\n",
    "\n",
    "# lines dataframe\n",
    "lines_s = n_s.lines\n",
    "lines_s[\"geometry\"] = lines_s[\"geometry\"].apply(loads)\n",
    "lines_s = gpd.GeoDataFrame(lines_s, crs=\"epsg:4326\")\n",
    "lines_s[\"line_id\"] = pd.Series(lines_s.index.map(str), index=lines_s.index)\n",
    "\n",
    "# buses dataframe\n",
    "buses_s = n_s.buses\n",
    "buses_s[\"geometry\"] = gpd.points_from_xy(buses_s.lon, buses_s.lat)\n",
    "buses_s = gpd.GeoDataFrame(buses_s, crs=\"epsg:4326\")\n",
    "\n",
    "# hvplot\n",
    "hhs = buses_s.hvplot(\n",
    "    geo=True,\n",
    "    size=10,  # buses[\"tag_area\"]**(0.5)/10,\n",
    "    frame_height=750,\n",
    "    alpha=0.4,\n",
    "    tiles=\"CartoLight\",\n",
    "    color=\"orange\",\n",
    ") * lines_s.hvplot(geo=True, alpha=0.4, hover_cols=\"line_id\").opts(\n",
    "    active_tools=[\"pan\", \"wheel_zoom\"]\n",
    ")\n",
    "# display(hhs)\n",
    "hv.save(hhs, home+\"/pypsa-earth/documentation/simplified_cluster.html\")\n"
   ]
  },
  {
   "cell_type": "code",
   "execution_count": 26,
   "metadata": {},
   "outputs": [
    {
     "data": {
      "text/plain": [
       "0.0"
      ]
     },
     "execution_count": 26,
     "metadata": {},
     "output_type": "execute_result"
    }
   ],
   "source": [
    "ids_220 = lines_a[lines_a.v_nom == 220].index\n",
    "lines_a.loc[ids_220, \"s_nom\"]\n",
    "ids_220_in_s = ids_220.intersection(lines_s.index)\n",
    "check_df = pd.DataFrame({\"simplified\": lines_s.loc[ids_220_in_s, \"s_nom\"], \"add\": lines_a.loc[ids_220_in_s, \"s_nom\"]})\n",
    "max_delta = (check_df[\"simplified\"] - check_df[\"add\"]).abs().max()\n",
    "max_delta"
   ]
  },
  {
   "attachments": {},
   "cell_type": "markdown",
   "metadata": {},
   "source": [
    "## Plot network of cluster_network\n",
    "\n",
    "`cluster_network` modifies the structure of the network obtained from `simplify_network` to aggregate close nodes and reduce the size of the problem as specified by the configuration file ``config.yaml``.\n",
    "The differences between the networks by `cluster_network` and `simplify_network` can be easily scouted by comparing the hvplots of the previous cell and the following.\n",
    "\n",
    "Similarly to the previous cases:\n",
    "- `n_c` is the PyPSA network model\n",
    "- `n_c.lines` is the lines dataframe\n",
    "- `n_c.buses` is the buses dataframe"
   ]
  },
  {
   "cell_type": "code",
   "execution_count": 30,
   "metadata": {},
   "outputs": [
    {
     "name": "stderr",
     "output_type": "stream",
     "text": [
      "INFO:pypsa.io:Imported network elec_s_4.nc has buses, carriers, generators, lines, loads, storage_units\n"
     ]
    },
    {
     "data": {},
     "metadata": {},
     "output_type": "display_data"
    },
    {
     "data": {
      "application/vnd.holoviews_exec.v0+json": "",
      "text/html": [
       "<div id='3757'>\n",
       "  <div class=\"bk-root\" id=\"2582da4b-e424-4f26-ba65-30502f74ddd1\" data-root-id=\"3757\"></div>\n",
       "</div>\n",
       "<script type=\"application/javascript\">(function(root) {\n",
       "  function embed_document(root) {\n",
       "    var docs_json = {\"abcf962c-08f3-41ff-b170-ac1b59a74a01\":{\"defs\":[{\"extends\":null,\"module\":null,\"name\":\"ReactiveHTML1\",\"overrides\":[],\"properties\":[]},{\"extends\":null,\"module\":null,\"name\":\"FlexBox1\",\"overrides\":[],\"properties\":[{\"default\":\"flex-start\",\"kind\":null,\"name\":\"align_content\"},{\"default\":\"flex-start\",\"kind\":null,\"name\":\"align_items\"},{\"default\":\"row\",\"kind\":null,\"name\":\"flex_direction\"},{\"default\":\"wrap\",\"kind\":null,\"name\":\"flex_wrap\"},{\"default\":\"flex-start\",\"kind\":null,\"name\":\"justify_content\"}]},{\"extends\":null,\"module\":null,\"name\":\"GridStack1\",\"overrides\":[],\"properties\":[{\"default\":\"warn\",\"kind\":null,\"name\":\"mode\"},{\"default\":null,\"kind\":null,\"name\":\"ncols\"},{\"default\":null,\"kind\":null,\"name\":\"nrows\"},{\"default\":true,\"kind\":null,\"name\":\"allow_resize\"},{\"default\":true,\"kind\":null,\"name\":\"allow_drag\"},{\"default\":[],\"kind\":null,\"name\":\"state\"}]},{\"extends\":null,\"module\":null,\"name\":\"click1\",\"overrides\":[],\"properties\":[{\"default\":\"\",\"kind\":null,\"name\":\"terminal_output\"},{\"default\":\"\",\"kind\":null,\"name\":\"debug_name\"},{\"default\":0,\"kind\":null,\"name\":\"clears\"}]},{\"extends\":null,\"module\":null,\"name\":\"NotificationAreaBase1\",\"overrides\":[],\"properties\":[{\"default\":\"bottom-right\",\"kind\":null,\"name\":\"position\"},{\"default\":0,\"kind\":null,\"name\":\"_clear\"}]},{\"extends\":null,\"module\":null,\"name\":\"NotificationArea1\",\"overrides\":[],\"properties\":[{\"default\":[],\"kind\":null,\"name\":\"notifications\"},{\"default\":\"bottom-right\",\"kind\":null,\"name\":\"position\"},{\"default\":0,\"kind\":null,\"name\":\"_clear\"},{\"default\":[{\"background\":\"#ffc107\",\"icon\":{\"className\":\"fas fa-exclamation-triangle\",\"color\":\"white\",\"tagName\":\"i\"},\"type\":\"warning\"},{\"background\":\"#007bff\",\"icon\":{\"className\":\"fas fa-info-circle\",\"color\":\"white\",\"tagName\":\"i\"},\"type\":\"info\"}],\"kind\":null,\"name\":\"types\"}]},{\"extends\":null,\"module\":null,\"name\":\"Notification\",\"overrides\":[],\"properties\":[{\"default\":null,\"kind\":null,\"name\":\"background\"},{\"default\":3000,\"kind\":null,\"name\":\"duration\"},{\"default\":null,\"kind\":null,\"name\":\"icon\"},{\"default\":\"\",\"kind\":null,\"name\":\"message\"},{\"default\":null,\"kind\":null,\"name\":\"notification_type\"},{\"default\":false,\"kind\":null,\"name\":\"_destroyed\"}]},{\"extends\":null,\"module\":null,\"name\":\"TemplateActions1\",\"overrides\":[],\"properties\":[{\"default\":0,\"kind\":null,\"name\":\"open_modal\"},{\"default\":0,\"kind\":null,\"name\":\"close_modal\"}]},{\"extends\":null,\"module\":null,\"name\":\"MaterialTemplateActions1\",\"overrides\":[],\"properties\":[{\"default\":0,\"kind\":null,\"name\":\"open_modal\"},{\"default\":0,\"kind\":null,\"name\":\"close_modal\"}]}],\"roots\":{\"references\":[{\"attributes\":{\"line_alpha\":{\"value\":0.2},\"line_color\":{\"value\":\"#30a2da\"},\"xs\":{\"field\":\"xs\"},\"ys\":{\"field\":\"ys\"}},\"id\":\"3854\",\"type\":\"MultiLine\"},{\"attributes\":{},\"id\":\"3792\",\"type\":\"PanTool\"},{\"attributes\":{},\"id\":\"3795\",\"type\":\"ResetTool\"},{\"attributes\":{\"axis_label\":\"y\",\"coordinates\":null,\"formatter\":{\"id\":\"3810\"},\"group\":null,\"major_label_policy\":{\"id\":\"3820\"},\"ticker\":{\"id\":\"3809\"}},\"id\":\"3787\",\"type\":\"LinearAxis\"},{\"attributes\":{\"fill_alpha\":{\"value\":0.4},\"fill_color\":{\"value\":\"orange\"},\"hatch_alpha\":{\"value\":0.1},\"hatch_color\":{\"value\":\"orange\"},\"line_alpha\":{\"value\":0.4},\"line_color\":{\"value\":\"orange\"},\"size\":{\"value\":3.1622776601683795},\"x\":{\"field\":\"Longitude\"},\"y\":{\"field\":\"Latitude\"}},\"id\":\"3842\",\"type\":\"Scatter\"},{\"attributes\":{\"axis\":{\"id\":\"3787\"},\"coordinates\":null,\"dimension\":1,\"grid_line_color\":null,\"group\":null,\"ticker\":null},\"id\":\"3790\",\"type\":\"Grid\"},{\"attributes\":{\"code\":\"\\n        var projections = Bokeh.require(\\\"core/util/projections\\\");\\n        var x = special_vars.data_x\\n        var y = special_vars.data_y\\n        var coords = projections.wgs84_mercator.invert(x, y)\\n        return \\\"\\\" + (coords[0]).toFixed(4)\\n    \"},\"id\":\"3846\",\"type\":\"CustomJSHover\"},{\"attributes\":{},\"id\":\"3839\",\"type\":\"Selection\"},{\"attributes\":{\"callback\":null,\"formatters\":{\"$x\":{\"id\":\"3846\"},\"$y\":{\"id\":\"3847\"}},\"renderers\":[{\"id\":\"3844\"}],\"tags\":[\"hv_created\"],\"tooltips\":[[\"Longitude\",\"$x{custom}\"],[\"Latitude\",\"$y{custom}\"]]},\"id\":\"3768\",\"type\":\"HoverTool\"},{\"attributes\":{\"data\":{\"xs\":[{\"__ndarray__\":\"adxExT/OW8Gl3OLxFhdcwQ==\",\"dtype\":\"float64\",\"order\":\"little\",\"shape\":[2]},{\"__ndarray__\":\"8o337QHUXMGl3OLxFhdcwQ==\",\"dtype\":\"float64\",\"order\":\"little\",\"shape\":[2]},{\"__ndarray__\":\"gpmXmtkPW8Gl3OLxFhdcwQ==\",\"dtype\":\"float64\",\"order\":\"little\",\"shape\":[2]}],\"ys\":[{\"__ndarray__\":\"FSTrsGULQcH/StESrUg+wQ==\",\"dtype\":\"float64\",\"order\":\"little\",\"shape\":[2]},{\"__ndarray__\":\"/59BwRr5O8H/StESrUg+wQ==\",\"dtype\":\"float64\",\"order\":\"little\",\"shape\":[2]},{\"__ndarray__\":\"//rx+4EZPsH/StESrUg+wQ==\",\"dtype\":\"float64\",\"order\":\"little\",\"shape\":[2]}]},\"selected\":{\"id\":\"3850\"},\"selection_policy\":{\"id\":\"3867\"}},\"id\":\"3849\",\"type\":\"ColumnDataSource\"},{\"attributes\":{\"fill_alpha\":{\"value\":0.2},\"fill_color\":{\"value\":\"orange\"},\"hatch_alpha\":{\"value\":0.2},\"hatch_color\":{\"value\":\"orange\"},\"line_alpha\":{\"value\":0.2},\"line_color\":{\"value\":\"orange\"},\"size\":{\"value\":3.1622776601683795},\"x\":{\"field\":\"Longitude\"},\"y\":{\"field\":\"Latitude\"}},\"id\":\"3843\",\"type\":\"Scatter\"},{\"attributes\":{},\"id\":\"3791\",\"type\":\"SaveTool\"},{\"attributes\":{\"line_alpha\":{\"value\":0.4},\"line_color\":{\"value\":\"#30a2da\"},\"xs\":{\"field\":\"xs\"},\"ys\":{\"field\":\"ys\"}},\"id\":\"3852\",\"type\":\"MultiLine\"},{\"attributes\":{\"attribution\":\"&copy; <a href=\\\"https://www.openstreetmap.org/copyright\\\">OpenStreetMap</a> contributors, &copy; <a href=\\\"https://cartodb.com/attributions\\\">CartoDB</a>\",\"url\":\"https://cartodb-basemaps-4.global.ssl.fastly.net/light_all/{Z}/{X}/{Y}.png\"},\"id\":\"3833\",\"type\":\"WMTSTileSource\"},{\"attributes\":{},\"id\":\"3813\",\"type\":\"AllLabels\"},{\"attributes\":{\"dimension\":\"lon\"},\"id\":\"3808\",\"type\":\"MercatorTickFormatter\"},{\"attributes\":{},\"id\":\"3850\",\"type\":\"Selection\"},{\"attributes\":{\"fill_alpha\":{\"value\":0.4},\"fill_color\":{\"value\":\"orange\"},\"hatch_alpha\":{\"value\":0.4},\"hatch_color\":{\"value\":\"orange\"},\"line_alpha\":{\"value\":0.4},\"line_color\":{\"value\":\"orange\"},\"size\":{\"value\":3.1622776601683795},\"x\":{\"field\":\"Longitude\"},\"y\":{\"field\":\"Latitude\"}},\"id\":\"3841\",\"type\":\"Scatter\"},{\"attributes\":{\"data\":{\"Latitude\":{\"__ndarray__\":\"FSTrsGULQcH/n0HBGvk7wf/68fuBGT7B/0rREq1IPsE=\",\"dtype\":\"float64\",\"order\":\"little\",\"shape\":[4]},\"Longitude\":{\"__ndarray__\":\"adxExT/OW8HyjfftAdRcwYKZl5rZD1vBpdzi8RYXXME=\",\"dtype\":\"float64\",\"order\":\"little\",\"shape\":[4]}},\"selected\":{\"id\":\"3839\"},\"selection_policy\":{\"id\":\"3865\"}},\"id\":\"3838\",\"type\":\"ColumnDataSource\"},{\"attributes\":{\"end\":-1798545.1105138469,\"min_interval\":5,\"reset_end\":-1798545.1105138469,\"reset_start\":-2268757.024300817,\"start\":-2268757.024300817,\"tags\":[[[\"Latitude\",\"Latitude\",null]]]},\"id\":\"3765\",\"type\":\"Range1d\"},{\"attributes\":{\"callback\":null,\"renderers\":[{\"id\":\"3855\"}],\"tags\":[\"hv_created\"],\"tooltips\":null},\"id\":\"3771\",\"type\":\"HoverTool\"},{\"attributes\":{\"match_aspect\":true,\"overlay\":{\"id\":\"3796\"}},\"id\":\"3794\",\"type\":\"BoxZoomTool\"},{\"attributes\":{\"dimension\":\"lat\"},\"id\":\"3810\",\"type\":\"MercatorTickFormatter\"},{\"attributes\":{\"bottom_units\":\"screen\",\"coordinates\":null,\"fill_alpha\":0.5,\"fill_color\":\"lightgrey\",\"group\":null,\"left_units\":\"screen\",\"level\":\"overlay\",\"line_alpha\":1.0,\"line_color\":\"black\",\"line_dash\":[4,4],\"line_width\":2,\"right_units\":\"screen\",\"syncable\":false,\"top_units\":\"screen\"},\"id\":\"3796\",\"type\":\"BoxAnnotation\"},{\"attributes\":{\"dimension\":\"lon\"},\"id\":\"3807\",\"type\":\"MercatorTicker\"},{\"attributes\":{\"dimension\":\"lat\"},\"id\":\"3809\",\"type\":\"MercatorTicker\"},{\"attributes\":{\"line_alpha\":{\"value\":0.4},\"line_cap\":{\"value\":\"butt\"},\"line_color\":{\"value\":\"#30a2da\"},\"line_dash\":{\"value\":[]},\"line_dash_offset\":{\"value\":0},\"line_join\":{\"value\":\"bevel\"},\"line_width\":{\"value\":1},\"xs\":{\"field\":\"xs\"},\"ys\":{\"field\":\"ys\"}},\"id\":\"3857\",\"type\":\"MultiLine\"},{\"attributes\":{},\"id\":\"3820\",\"type\":\"AllLabels\"},{\"attributes\":{},\"id\":\"3779\",\"type\":\"LinearScale\"},{\"attributes\":{\"code\":\"\\n        var projections = Bokeh.require(\\\"core/util/projections\\\");\\n        var x = special_vars.data_x\\n        var y = special_vars.data_y\\n        var coords = projections.wgs84_mercator.invert(x, y)\\n        return \\\"\\\" + (coords[1]).toFixed(4)\\n    \"},\"id\":\"3847\",\"type\":\"CustomJSHover\"},{\"attributes\":{\"coordinates\":null,\"group\":null,\"level\":\"glyph\",\"tile_source\":{\"id\":\"3833\"}},\"id\":\"3836\",\"type\":\"TileRenderer\"},{\"attributes\":{\"coordinates\":null,\"data_source\":{\"id\":\"3849\"},\"glyph\":{\"id\":\"3852\"},\"group\":null,\"hover_glyph\":null,\"muted_glyph\":{\"id\":\"3854\"},\"nonselection_glyph\":{\"id\":\"3853\"},\"selection_glyph\":{\"id\":\"3857\"},\"view\":{\"id\":\"3856\"}},\"id\":\"3855\",\"type\":\"GlyphRenderer\"},{\"attributes\":{\"line_alpha\":{\"value\":0.4},\"line_color\":{\"value\":\"#30a2da\"},\"xs\":{\"field\":\"xs\"},\"ys\":{\"field\":\"ys\"}},\"id\":\"3853\",\"type\":\"MultiLine\"},{\"attributes\":{\"active_drag\":{\"id\":\"3792\"},\"active_scroll\":{\"id\":\"3793\"},\"tools\":[{\"id\":\"3768\"},{\"id\":\"3771\"},{\"id\":\"3791\"},{\"id\":\"3792\"},{\"id\":\"3793\"},{\"id\":\"3794\"},{\"id\":\"3795\"}]},\"id\":\"3797\",\"type\":\"Toolbar\"},{\"attributes\":{\"zoom_on_axis\":false},\"id\":\"3793\",\"type\":\"WheelZoomTool\"},{\"attributes\":{\"below\":[{\"id\":\"3783\"}],\"center\":[{\"id\":\"3786\"},{\"id\":\"3790\"}],\"frame_height\":750,\"frame_width\":886,\"height\":null,\"left\":[{\"id\":\"3787\"}],\"margin\":[5,5,5,5],\"match_aspect\":true,\"min_border_bottom\":10,\"min_border_left\":10,\"min_border_right\":10,\"min_border_top\":10,\"renderers\":[{\"id\":\"3836\"},{\"id\":\"3844\"},{\"id\":\"3855\"}],\"sizing_mode\":\"fixed\",\"title\":{\"id\":\"3775\"},\"toolbar\":{\"id\":\"3797\"},\"width\":null,\"x_range\":{\"id\":\"3764\"},\"x_scale\":{\"id\":\"3779\"},\"y_range\":{\"id\":\"3765\"},\"y_scale\":{\"id\":\"3781\"}},\"id\":\"3774\",\"subtype\":\"Figure\",\"type\":\"Plot\"},{\"attributes\":{\"coordinates\":null,\"data_source\":{\"id\":\"3838\"},\"glyph\":{\"id\":\"3841\"},\"group\":null,\"hover_glyph\":null,\"muted_glyph\":{\"id\":\"3843\"},\"nonselection_glyph\":{\"id\":\"3842\"},\"selection_glyph\":{\"id\":\"3848\"},\"view\":{\"id\":\"3845\"}},\"id\":\"3844\",\"type\":\"GlyphRenderer\"},{\"attributes\":{\"axis_label\":\"x\",\"coordinates\":null,\"formatter\":{\"id\":\"3808\"},\"group\":null,\"major_label_policy\":{\"id\":\"3813\"},\"ticker\":{\"id\":\"3807\"}},\"id\":\"3783\",\"type\":\"LinearAxis\"},{\"attributes\":{\"axis\":{\"id\":\"3783\"},\"coordinates\":null,\"grid_line_color\":null,\"group\":null,\"ticker\":null},\"id\":\"3786\",\"type\":\"Grid\"},{\"attributes\":{\"children\":[{\"id\":\"3774\"}],\"margin\":[0,0,0,0],\"name\":\"Row63167\",\"sizing_mode\":\"fixed\",\"tags\":[\"embedded\"]},\"id\":\"3757\",\"type\":\"Row\"},{\"attributes\":{},\"id\":\"3867\",\"type\":\"UnionRenderers\"},{\"attributes\":{\"coordinates\":null,\"group\":null,\"text_color\":\"black\",\"text_font_size\":\"12pt\"},\"id\":\"3775\",\"type\":\"Title\"},{\"attributes\":{\"source\":{\"id\":\"3849\"}},\"id\":\"3856\",\"type\":\"CDSView\"},{\"attributes\":{\"source\":{\"id\":\"3838\"}},\"id\":\"3845\",\"type\":\"CDSView\"},{\"attributes\":{\"angle\":{\"value\":0.0},\"fill_alpha\":{\"value\":0.4},\"fill_color\":{\"value\":\"orange\"},\"hatch_alpha\":{\"value\":0.4},\"hatch_color\":{\"value\":\"orange\"},\"hatch_scale\":{\"value\":12.0},\"hatch_weight\":{\"value\":1.0},\"line_alpha\":{\"value\":0.4},\"line_cap\":{\"value\":\"butt\"},\"line_color\":{\"value\":\"orange\"},\"line_dash\":{\"value\":[]},\"line_dash_offset\":{\"value\":0},\"line_join\":{\"value\":\"bevel\"},\"line_width\":{\"value\":1},\"marker\":{\"value\":\"circle\"},\"size\":{\"value\":3.1622776601683795},\"x\":{\"field\":\"Longitude\"},\"y\":{\"field\":\"Latitude\"}},\"id\":\"3848\",\"type\":\"Scatter\"},{\"attributes\":{},\"id\":\"3781\",\"type\":\"LinearScale\"},{\"attributes\":{},\"id\":\"3865\",\"type\":\"UnionRenderers\"},{\"attributes\":{\"end\":-7047817.618813129,\"min_interval\":5,\"reset_end\":-7047817.618813129,\"reset_start\":-7603428.514924304,\"start\":-7603428.514924304,\"tags\":[[[\"Longitude\",\"Longitude\",null]]]},\"id\":\"3764\",\"type\":\"Range1d\"}],\"root_ids\":[\"3757\"]},\"title\":\"Bokeh Application\",\"version\":\"2.4.3\"}};\n",
       "    var render_items = [{\"docid\":\"abcf962c-08f3-41ff-b170-ac1b59a74a01\",\"root_ids\":[\"3757\"],\"roots\":{\"3757\":\"2582da4b-e424-4f26-ba65-30502f74ddd1\"}}];\n",
       "    root.Bokeh.embed.embed_items_notebook(docs_json, render_items);\n",
       "    for (const render_item of render_items) {\n",
       "      for (const root_id of render_item.root_ids) {\n",
       "\tconst id_el = document.getElementById(root_id)\n",
       "\tif (id_el.children.length && (id_el.children[0].className === 'bk-root')) {\n",
       "\t  const root_el = id_el.children[0]\n",
       "\t  root_el.id = root_el.id + '-rendered'\n",
       "\t}\n",
       "      }\n",
       "    }\n",
       "  }\n",
       "  if (root.Bokeh !== undefined && root.Bokeh.Panel !== undefined) {\n",
       "    embed_document(root);\n",
       "  } else {\n",
       "    var attempts = 0;\n",
       "    var timer = setInterval(function(root) {\n",
       "      if (root.Bokeh !== undefined && root.Bokeh.Panel !== undefined) {\n",
       "        clearInterval(timer);\n",
       "        embed_document(root);\n",
       "      } else if (document.readyState == \"complete\") {\n",
       "        attempts++;\n",
       "        if (attempts > 200) {\n",
       "          clearInterval(timer);\n",
       "          console.log(\"Bokeh: ERROR: Unable to run BokehJS code because BokehJS library is missing\");\n",
       "        }\n",
       "      }\n",
       "    }, 25, root)\n",
       "  }\n",
       "})(window);</script>"
      ],
      "text/plain": [
       ":Overlay\n",
       "   .Tiles.I  :Tiles   [x,y]\n",
       "   .Points.I :Points   [Longitude,Latitude]\n",
       "   .Path.I   :Path   [Longitude,Latitude]"
      ]
     },
     "metadata": {
      "application/vnd.holoviews_exec.v0+json": {
       "id": "3757"
      }
     },
     "output_type": "display_data"
    },
    {
     "name": "stderr",
     "output_type": "stream",
     "text": [
      "WARNING:bokeh.core.validation.check:W-1005 (FIXED_SIZING_MODE): 'fixed' sizing mode requires width and height to be set: Row(id='3911', ...)\n"
     ]
    }
   ],
   "source": [
    "n_c = pypsa.Network(network_path_c)\n",
    "\n",
    "# buses dataframe\n",
    "buses_c = n_c.buses\n",
    "buses_c[\"geometry\"] = gpd.points_from_xy(buses_c.x, buses_c.y)\n",
    "buses_c = gpd.GeoDataFrame(buses_c, crs=\"epsg:4326\")\n",
    "\n",
    "# lines dataframe\n",
    "lines_c = n_c.lines\n",
    "lines_c[\"geometry\"] = lines_c.apply(\n",
    "    lambda x: LineString(\n",
    "        [buses_c.loc[x[\"bus0\"], \"geometry\"], buses_c.loc[x[\"bus1\"], \"geometry\"]]\n",
    "    ),\n",
    "    axis=1,\n",
    ")\n",
    "lines_c = gpd.GeoDataFrame(lines_c, crs=\"epsg:4326\")\n",
    "\n",
    "# hvplot\n",
    "hhc = buses_c.hvplot(\n",
    "    geo=True,\n",
    "    size=10,  # buses[\"tag_area\"]**(0.5)/10,\n",
    "    frame_height=750,\n",
    "    alpha=0.4,\n",
    "    tiles=\"CartoLight\",\n",
    "    color=\"orange\",\n",
    ") * lines_c.hvplot(geo=True, alpha=0.4).opts(active_tools=[\"pan\", \"wheel_zoom\"])\n",
    "display(hhc)\n",
    "hv.save(hhc, home+\"/pypsa-earth/documentation/network_cluster.html\");\n"
   ]
  }
 ],
 "metadata": {
  "kernelspec": {
   "display_name": "Python 3.9.13 ('my-pypsa-earth')",
   "language": "python",
   "name": "python3"
  },
  "language_info": {
   "codemirror_mode": {
    "name": "ipython",
    "version": 3
   },
   "file_extension": ".py",
   "mimetype": "text/x-python",
   "name": "python",
   "nbconvert_exporter": "python",
   "pygments_lexer": "ipython3",
   "version": "3.10.12"
  },
  "vscode": {
   "interpreter": {
    "hash": "470f3cad5cca5e1bd4ea681d91de31aac378d032edc6483e72bae10103925e31"
   }
  }
 },
 "nbformat": 4,
 "nbformat_minor": 4
}
