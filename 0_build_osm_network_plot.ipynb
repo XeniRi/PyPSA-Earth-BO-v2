{
 "cells": [
  {
   "attachments": {},
   "cell_type": "markdown",
   "id": "8b536192-7511-4437-97c8-6b2e8a1ece9a",
   "metadata": {},
   "source": [
    "# Explores osm_build_network\n",
    "\n",
    "This notebook is for snapping of substations to lines\n",
    "\n",
    "### Jupyter notebook needs to be improved (content and structure?). \n",
    "\n",
    "It seems also geoplot need to be added to the environment. How to: \n",
    "- One need to deinstall the whole environment locally and install everything from scratch from the environment.yaml. Thereby the environment.yaml needs now `geoplot`.\n",
    "- Subsequently, one need to test if there are any conflicts using geoplot in the other scripts (geoplot might be in conflict with other packages)"
   ]
  },
  {
   "cell_type": "code",
   "execution_count": 12,
   "id": "27f1cbd9",
   "metadata": {},
   "outputs": [],
   "source": [
    "import os\n",
    "import matplotlib.pyplot as plt\n",
    "import geopandas as gpd\n",
    "#import geoplot\n",
    "import pandas as pd\n",
    "import numpy as np\n",
    "import pandas as pd\n",
    "import hvplot.pandas\n",
    "\n",
    "import sys\n",
    "\n",
    "# module_path = os.path.abspath(os.path.join('../../')) # To import helpers\n",
    "# if module_path not in sys.path:\n",
    "#     sys.path.append(module_path+\"/pypsa-earth/scripts\")\n",
    "    \n",
    "#from _helpers import sets_path_to_root\n",
    "\n",
    "#sets_path_to_root(\"pypsa-earth-project\")"
   ]
  },
  {
   "attachments": {},
   "cell_type": "markdown",
   "id": "e966533f",
   "metadata": {},
   "source": [
    "# Africa shape data"
   ]
  },
  {
   "cell_type": "code",
   "execution_count": 4,
   "id": "cbb849e4",
   "metadata": {},
   "outputs": [
    {
     "name": "stderr",
     "output_type": "stream",
     "text": [
      "C:\\Users\\xenia\\AppData\\Local\\Temp\\ipykernel_3700\\2054998892.py:1: FutureWarning: The geopandas.dataset module is deprecated and will be removed in GeoPandas 1.0. You can get the original 'naturalearth_lowres' data from https://www.naturalearthdata.com/downloads/110m-cultural-vectors/.\n",
      "  world = gpd.read_file(gpd.datasets.get_path(\"naturalearth_lowres\"))\n"
     ]
    }
   ],
   "source": [
    "world = gpd.read_file(gpd.datasets.get_path(\"naturalearth_lowres\"))\n",
    "# africa = world.query('continent == \"Africa\"')\n",
    "boliviaplot = world.query('name == \"Bolivia\"')\n",
    "# world"
   ]
  },
  {
   "attachments": {},
   "cell_type": "markdown",
   "id": "af730b8f",
   "metadata": {},
   "source": [
    "# Power data"
   ]
  },
  {
   "cell_type": "code",
   "execution_count": 20,
   "id": "0e4bb702",
   "metadata": {},
   "outputs": [],
   "source": [
    "# choose the option to get your plot\n",
    "option = 'raw'\n",
    "# option = 'clean'\n",
    "option = \"line2network\"\n",
    "raw_path = \"resources/osm/raw\"\n",
    "clean_path = \"resources/osm/clean\"\n",
    "b_network_path = \"resources/base_network\"\n",
    "home = \"c:/Users/xenia/Desktop/Thesis_Code/Code/pypsa-earth_working/pypsa-earth/\"\n",
    "\n",
    "\n",
    "if option == \"raw\":\n",
    "    pathg = home + raw_path +\"/all_raw_generators.geojson\"\n",
    "    paths = home + raw_path + + \"/all_raw_substations.geojson\"\n",
    "    pathl = home + raw_path + + \"/all_raw_lines.geojson\"\n",
    "\n",
    "    generators = gpd.read_file(pathg).set_crs(epsg=4326, inplace=True)\n",
    "    substations = gpd.read_file(paths).set_crs(epsg=4326, inplace=True)\n",
    "    lines = gpd.read_file(pathl).set_crs(epsg=4326, inplace=True)\n",
    "\n",
    "if option == \"clean\":\n",
    "    pathg = home + clean_path + \"/all_generators.geojson\"\n",
    "    paths = home + clean_path + \"/all_substations.geojson\"\n",
    "    pathl = home + clean_path + \"/all_lines.geojson\"\n",
    "\n",
    "    generators = gpd.read_file(pathg).set_crs(epsg=4326, inplace=True)\n",
    "    substations = gpd.read_file(paths).set_crs(epsg=4326, inplace=True)\n",
    "    lines = gpd.read_file(pathl).set_crs(epsg=4326, inplace=True)\n",
    "\n",
    "if option == \"line2network\":\n",
    "    paths = (\n",
    "        home + b_network_path  + \"/all_buses_build_network.csv\"\n",
    "    )\n",
    "    pathl = (\n",
    "        home + b_network_path  + \"/all_lines_build_network.csv\"\n",
    "    )\n",
    "    patht = (\n",
    "        home + b_network_path  + \"/all_transformers_build_network.csv\"\n",
    "    )\n",
    "\n",
    "    substations = gpd.read_file(\n",
    "        paths, GEOM_POSSIBLE_NAMES=\"geometry\", KEEP_GEOM_COLUMNS=\"NO\"\n",
    "    )\n",
    "    substations[\"geometry\"] = gpd.points_from_xy(\n",
    "        pd.to_numeric(substations.lon, downcast=\"float\"),\n",
    "        pd.to_numeric(substations.lat, downcast=\"float\"),\n",
    "    )\n",
    "    substations = substations.set_crs(epsg=4326, inplace=True)\n",
    "    lines = gpd.read_file(\n",
    "        pathl, GEOM_POSSIBLE_NAMES=\"geometry\", KEEP_GEOM_COLUMNS=\"NO\"\n",
    "    ).set_crs(epsg=4326, inplace=True)\n",
    "\n",
    "    transformers = gpd.read_file(\n",
    "        patht, GEOM_POSSIBLE_NAMES=\"geometry\", KEEP_GEOM_COLUMNS=\"NO\"\n",
    "    ).set_crs(epsg=4326, inplace=True)"
   ]
  },
  {
   "attachments": {},
   "cell_type": "markdown",
   "id": "2f8e3270-6f44-42c0-a0b4-82cc8e87fe93",
   "metadata": {},
   "source": [
    "# Static plot"
   ]
  },
  {
   "cell_type": "code",
   "execution_count": 21,
   "id": "cbb43a53-12ed-4a7c-a25c-532d77616795",
   "metadata": {},
   "outputs": [
    {
     "ename": "NameError",
     "evalue": "name 'geoplot' is not defined",
     "output_type": "error",
     "traceback": [
      "\u001b[1;31m---------------------------------------------------------------------------\u001b[0m",
      "\u001b[1;31mNameError\u001b[0m                                 Traceback (most recent call last)",
      "Cell \u001b[1;32mIn[21], line 1\u001b[0m\n\u001b[1;32m----> 1\u001b[0m ax \u001b[39m=\u001b[39m geoplot\u001b[39m.\u001b[39mpolyplot(nigeriaplot, edgecolor\u001b[39m=\u001b[39m\u001b[39m\"\u001b[39m\u001b[39mgrey\u001b[39m\u001b[39m\"\u001b[39m, alpha\u001b[39m=\u001b[39m\u001b[39m0.5\u001b[39m, figsize\u001b[39m=\u001b[39m(\u001b[39m5\u001b[39m, \u001b[39m5\u001b[39m)) \u001b[39m# Expand figsize for larger image\u001b[39;00m\n\u001b[0;32m      3\u001b[0m \u001b[39mif\u001b[39;00m option \u001b[39m==\u001b[39m \u001b[39m\"\u001b[39m\u001b[39mline2network\u001b[39m\u001b[39m\"\u001b[39m:\n\u001b[0;32m      4\u001b[0m     lines\u001b[39m.\u001b[39mplot(figsize\u001b[39m=\u001b[39m(\u001b[39m5\u001b[39m, \u001b[39m5\u001b[39m), markersize\u001b[39m=\u001b[39m\u001b[39m10\u001b[39m, color\u001b[39m=\u001b[39m\u001b[39m\"\u001b[39m\u001b[39mgreen\u001b[39m\u001b[39m\"\u001b[39m, alpha\u001b[39m=\u001b[39m\u001b[39m0.3\u001b[39m, ax\u001b[39m=\u001b[39max)\n",
      "\u001b[1;31mNameError\u001b[0m: name 'geoplot' is not defined"
     ]
    }
   ],
   "source": [
    "ax = geoplot.polyplot(nigeriaplot, edgecolor=\"grey\", alpha=0.5, figsize=(5, 5)) # Expand figsize for larger image\n",
    "\n",
    "if option == \"line2network\":\n",
    "    lines.plot(figsize=(5, 5), markersize=10, color=\"green\", alpha=0.3, ax=ax)\n",
    "    substations.plot(figsize=(5, 5), markersize=3, color=\"blue\", alpha=0.3, ax=ax)\n",
    "\n",
    "else:\n",
    "    generators.plot(figsize=(5, 5), markersize=10, color=\"orange\", alpha=0.3, ax=ax)\n",
    "    lines.plot(figsize=(5, 5), markersize=10, color=\"green\", alpha=0.3, ax=ax)\n",
    "    substations.plot(figsize=(5, 5), markersize=3, color=\"blue\", alpha=0.3, ax=ax)\n",
    "\n",
    "# Example of how to constrain to one country:\n",
    "# lines.loc[lines['country'] == 'nigeria'].plot(figsize=(20, 20),markersize=25, color='red',alpha = 0.3, ax=ax)\n",
    "\n",
    "# #plt.savefig('africa_transmission_and substations_110.png')"
   ]
  },
  {
   "attachments": {},
   "cell_type": "markdown",
   "id": "19798b9e-f490-4ac5-97aa-29371803da23",
   "metadata": {},
   "source": [
    "# Interactive plot"
   ]
  },
  {
   "cell_type": "code",
   "execution_count": 22,
   "id": "ad23b230-a040-423a-b73a-f776caa4aa7b",
   "metadata": {},
   "outputs": [],
   "source": [
    "# Choose the country you want to focus\n",
    "country = \"BO\""
   ]
  },
  {
   "cell_type": "code",
   "execution_count": 23,
   "id": "302a8f6b-6c05-4c04-9b21-cf1823440796",
   "metadata": {},
   "outputs": [],
   "source": [
    "if option == \"line2network\":\n",
    "    lines_ng = lines[lines[\"country\"] == country]\n",
    "    substations_ng = substations[substations[\"country\"] == country]\n",
    "\n",
    "else:\n",
    "    lines_ng = lines[lines[\"country\"] == country]\n",
    "    substations_ng = substations[substations[\"country\"] == country]\n",
    "    generators_ng = generators[generators[\"Country\"] == country]"
   ]
  },
  {
   "attachments": {},
   "cell_type": "markdown",
   "id": "5ea4705a",
   "metadata": {},
   "source": [
    "# Map"
   ]
  },
  {
   "cell_type": "code",
   "execution_count": 24,
   "id": "3dde5168",
   "metadata": {},
   "outputs": [
    {
     "ename": "DataError",
     "evalue": "Supplied data does not contain specified dimensions, the following dimensions were not found: ['Longitude', 'Latitude']\n\nPandasInterface expects tabular data, for more information on supported datatypes see http://holoviews.org/user_guide/Tabular_Datasets.html",
     "output_type": "error",
     "traceback": [
      "\u001b[1;31m---------------------------------------------------------------------------\u001b[0m",
      "\u001b[1;31mDataError\u001b[0m                                 Traceback (most recent call last)",
      "Cell \u001b[1;32mIn[24], line 4\u001b[0m\n\u001b[0;32m      1\u001b[0m \u001b[39m# Somehow works with \"if\" when using display()\u001b[39;00m\n\u001b[0;32m      3\u001b[0m \u001b[39mif\u001b[39;00m option \u001b[39m==\u001b[39m \u001b[39m\"\u001b[39m\u001b[39mline2network\u001b[39m\u001b[39m\"\u001b[39m:\n\u001b[1;32m----> 4\u001b[0m     line2network_BL \u001b[39m=\u001b[39m substations_ng\u001b[39m.\u001b[39;49mhvplot( \u001b[39m# Buses and Lines\u001b[39;49;00m\n\u001b[0;32m      5\u001b[0m         geo\u001b[39m=\u001b[39;49m\u001b[39mTrue\u001b[39;49;00m,\n\u001b[0;32m      6\u001b[0m         size\u001b[39m=\u001b[39;49m\u001b[39m10\u001b[39;49m,\n\u001b[0;32m      7\u001b[0m         frame_height\u001b[39m=\u001b[39;49m\u001b[39m750\u001b[39;49m,\n\u001b[0;32m      8\u001b[0m         alpha\u001b[39m=\u001b[39;49m\u001b[39m0.4\u001b[39;49m,\n\u001b[0;32m      9\u001b[0m         tiles\u001b[39m=\u001b[39;49m\u001b[39m\"\u001b[39;49m\u001b[39mCartoLight\u001b[39;49m\u001b[39m\"\u001b[39;49m,\n\u001b[0;32m     10\u001b[0m         hover_cols\u001b[39m=\u001b[39;49m[\u001b[39m\"\u001b[39;49m\u001b[39mbus_id\u001b[39;49m\u001b[39m\"\u001b[39;49m],\n\u001b[0;32m     11\u001b[0m         color\u001b[39m=\u001b[39;49m\u001b[39m\"\u001b[39;49m\u001b[39morange\u001b[39;49m\u001b[39m\"\u001b[39;49m,\n\u001b[0;32m     12\u001b[0m     ) \u001b[39m*\u001b[39m lines_ng\u001b[39m.\u001b[39mhvplot(geo\u001b[39m=\u001b[39m\u001b[39mTrue\u001b[39;00m, alpha\u001b[39m=\u001b[39m\u001b[39m0.4\u001b[39m, hover_cols\u001b[39m=\u001b[39m[\u001b[39m\"\u001b[39m\u001b[39mline_id\u001b[39m\u001b[39m\"\u001b[39m])\u001b[39m.\u001b[39mopts(\n\u001b[0;32m     13\u001b[0m         active_tools\u001b[39m=\u001b[39m[\u001b[39m\"\u001b[39m\u001b[39mpan\u001b[39m\u001b[39m\"\u001b[39m, \u001b[39m\"\u001b[39m\u001b[39mwheel_zoom\u001b[39m\u001b[39m\"\u001b[39m]\n\u001b[0;32m     14\u001b[0m     )\n\u001b[0;32m     15\u001b[0m     \u001b[39m# display (line2network_BL)     # show plot in the notebook\u001b[39;00m\n\u001b[0;32m     16\u001b[0m     hvplot\u001b[39m.\u001b[39msave(line2network_BL, \u001b[39m\"\u001b[39m\u001b[39mdocumentation/line2network_BL.html\u001b[39m\u001b[39m\"\u001b[39m) \u001b[39m# save plot in the path here\u001b[39;00m\n",
      "File \u001b[1;32mc:\\Users\\xenia\\miniconda3\\envs\\pypsa-earth-may\\lib\\site-packages\\hvplot\\plotting\\core.py:92\u001b[0m, in \u001b[0;36mhvPlotBase.__call__\u001b[1;34m(self, x, y, kind, **kwds)\u001b[0m\n\u001b[0;32m     89\u001b[0m         plot \u001b[39m=\u001b[39m \u001b[39mself\u001b[39m\u001b[39m.\u001b[39m_get_converter(x, y, kind, \u001b[39m*\u001b[39m\u001b[39m*\u001b[39mkwds)(kind, x, y)\n\u001b[0;32m     90\u001b[0m         \u001b[39mreturn\u001b[39;00m pn\u001b[39m.\u001b[39mpanel(plot, \u001b[39m*\u001b[39m\u001b[39m*\u001b[39mpanel_dict)\n\u001b[1;32m---> 92\u001b[0m \u001b[39mreturn\u001b[39;00m \u001b[39mself\u001b[39;49m\u001b[39m.\u001b[39;49m_get_converter(x, y, kind, \u001b[39m*\u001b[39;49m\u001b[39m*\u001b[39;49mkwds)(kind, x, y)\n",
      "File \u001b[1;32mc:\\Users\\xenia\\miniconda3\\envs\\pypsa-earth-may\\lib\\site-packages\\hvplot\\converter.py:1220\u001b[0m, in \u001b[0;36mHoloViewsConverter.__call__\u001b[1;34m(self, kind, x, y)\u001b[0m\n\u001b[0;32m   1218\u001b[0m     columns \u001b[39m=\u001b[39m [c \u001b[39mfor\u001b[39;00m c \u001b[39min\u001b[39;00m data\u001b[39m.\u001b[39mcolumns \u001b[39mif\u001b[39;00m c \u001b[39m!=\u001b[39m \u001b[39m'\u001b[39m\u001b[39mgeometry\u001b[39m\u001b[39m'\u001b[39m]\n\u001b[0;32m   1219\u001b[0m     shape_dims \u001b[39m=\u001b[39m [\u001b[39m'\u001b[39m\u001b[39mLongitude\u001b[39m\u001b[39m'\u001b[39m, \u001b[39m'\u001b[39m\u001b[39mLatitude\u001b[39m\u001b[39m'\u001b[39m] \u001b[39mif\u001b[39;00m \u001b[39mself\u001b[39m\u001b[39m.\u001b[39mgeo \u001b[39melse\u001b[39;00m [\u001b[39m'\u001b[39m\u001b[39mx\u001b[39m\u001b[39m'\u001b[39m, \u001b[39m'\u001b[39m\u001b[39my\u001b[39m\u001b[39m'\u001b[39m]\n\u001b[1;32m-> 1220\u001b[0m     dataset \u001b[39m=\u001b[39m Dataset(data, kdims\u001b[39m=\u001b[39;49mshape_dims\u001b[39m+\u001b[39;49mcolumns)\n\u001b[0;32m   1221\u001b[0m \u001b[39melif\u001b[39;00m \u001b[39mself\u001b[39m\u001b[39m.\u001b[39mdatatype \u001b[39m==\u001b[39m \u001b[39m'\u001b[39m\u001b[39mxarray\u001b[39m\u001b[39m'\u001b[39m:\n\u001b[0;32m   1222\u001b[0m     \u001b[39mimport\u001b[39;00m \u001b[39mxarray\u001b[39;00m \u001b[39mas\u001b[39;00m \u001b[39mxr\u001b[39;00m\n",
      "File \u001b[1;32mc:\\Users\\xenia\\miniconda3\\envs\\pypsa-earth-may\\lib\\site-packages\\holoviews\\core\\data\\__init__.py:335\u001b[0m, in \u001b[0;36mDataset.__init__\u001b[1;34m(self, data, kdims, vdims, **kwargs)\u001b[0m\n\u001b[0;32m    333\u001b[0m (data, \u001b[39mself\u001b[39m\u001b[39m.\u001b[39minterface, dims, extra_kws) \u001b[39m=\u001b[39m initialized\n\u001b[0;32m    334\u001b[0m \u001b[39msuper\u001b[39m()\u001b[39m.\u001b[39m\u001b[39m__init__\u001b[39m(data, \u001b[39m*\u001b[39m\u001b[39m*\u001b[39m\u001b[39mdict\u001b[39m(kwargs, \u001b[39m*\u001b[39m\u001b[39m*\u001b[39m\u001b[39mdict\u001b[39m(dims, \u001b[39m*\u001b[39m\u001b[39m*\u001b[39mextra_kws)))\n\u001b[1;32m--> 335\u001b[0m \u001b[39mself\u001b[39;49m\u001b[39m.\u001b[39;49minterface\u001b[39m.\u001b[39;49mvalidate(\u001b[39mself\u001b[39;49m, validate_vdims)\n\u001b[0;32m    337\u001b[0m \u001b[39m# Handle _pipeline property\u001b[39;00m\n\u001b[0;32m    338\u001b[0m \u001b[39mif\u001b[39;00m input_pipeline \u001b[39mis\u001b[39;00m \u001b[39mNone\u001b[39;00m:\n",
      "File \u001b[1;32mc:\\Users\\xenia\\miniconda3\\envs\\pypsa-earth-may\\lib\\site-packages\\holoviews\\core\\data\\pandas.py:160\u001b[0m, in \u001b[0;36mPandasInterface.validate\u001b[1;34m(cls, dataset, vdims)\u001b[0m\n\u001b[0;32m    158\u001b[0m not_found \u001b[39m=\u001b[39m [d \u001b[39mfor\u001b[39;00m d \u001b[39min\u001b[39;00m dimensions \u001b[39mif\u001b[39;00m d \u001b[39mnot\u001b[39;00m \u001b[39min\u001b[39;00m cols]\n\u001b[0;32m    159\u001b[0m \u001b[39mif\u001b[39;00m not_found:\n\u001b[1;32m--> 160\u001b[0m     \u001b[39mraise\u001b[39;00m DataError(\u001b[39m\"\u001b[39m\u001b[39mSupplied data does not contain specified \u001b[39m\u001b[39m\"\u001b[39m\n\u001b[0;32m    161\u001b[0m                     \u001b[39m\"\u001b[39m\u001b[39mdimensions, the following dimensions were \u001b[39m\u001b[39m\"\u001b[39m\n\u001b[0;32m    162\u001b[0m                     \u001b[39m\"\u001b[39m\u001b[39mnot found: \u001b[39m\u001b[39m%s\u001b[39;00m\u001b[39m\"\u001b[39m \u001b[39m%\u001b[39m \u001b[39mrepr\u001b[39m(not_found), \u001b[39mcls\u001b[39m)\n",
      "\u001b[1;31mDataError\u001b[0m: Supplied data does not contain specified dimensions, the following dimensions were not found: ['Longitude', 'Latitude']\n\nPandasInterface expects tabular data, for more information on supported datatypes see http://holoviews.org/user_guide/Tabular_Datasets.html"
     ]
    }
   ],
   "source": [
    "# Somehow works with \"if\" when using display()\n",
    "\n",
    "if option == \"line2network\":\n",
    "    line2network_BL = substations_ng.hvplot( # Buses and Lines\n",
    "        geo=True,\n",
    "        size=10,\n",
    "        frame_height=750,\n",
    "        alpha=0.4,\n",
    "        tiles=\"CartoLight\",\n",
    "        hover_cols=[\"bus_id\"],\n",
    "        color=\"orange\",\n",
    "    ) * lines_ng.hvplot(geo=True, alpha=0.4, hover_cols=[\"line_id\"]).opts(\n",
    "        active_tools=[\"pan\", \"wheel_zoom\"]\n",
    "    )\n",
    "    # display (line2network_BL)     # show plot in the notebook\n",
    "    hvplot.save(line2network_BL, \"documentation/line2network_BL.html\") # save plot in the path here\n",
    "\n",
    "else:\n",
    "    raw_clean = substations_ng.hvplot(\n",
    "        geo=True,\n",
    "        size=10,\n",
    "        frame_height=750,\n",
    "        alpha=0.4,\n",
    "        tiles=\"CartoLight\",\n",
    "        hover_cols=[\"bus_id\"],\n",
    "        color=\"orange\",\n",
    "    ) * lines_ng.hvplot(\n",
    "        geo=True, alpha=0.4, hover_cols=[\"line_id\"]\n",
    "    ) * generators_ng.hvplot(\n",
    "        geo=True, alpha=0.4, color=\"green\"\n",
    "    ).opts(\n",
    "        active_tools=[\"pan\", \"wheel_zoom\"]\n",
    "    )\n",
    "    # display (raw_clean)     # show plot in the notebook\n",
    "    hvplot.save(raw_clean, \"documentation/raw_clean.html\") # save plot in the path here"
   ]
  },
  {
   "cell_type": "code",
   "execution_count": 8,
   "id": "c996ddda-20f0-450e-810e-856d9539ffc7",
   "metadata": {},
   "outputs": [
    {
     "name": "stderr",
     "output_type": "stream",
     "text": [
      "WARNING:param.main: linesize option not found for paths plot with bokeh; similar options include: ['fontsize']\n"
     ]
    }
   ],
   "source": [
    "# With transformers\n",
    "line2network_BLT = substations_ng.hvplot( # Buses, Lines and Transformers\n",
    "    geo=True,\n",
    "    size=10,\n",
    "    frame_height=750,\n",
    "    alpha=0.4,\n",
    "    tiles=\"CartoLight\",\n",
    "    hover_cols=[\"bus_id\"],\n",
    "    color=\"orange\",\n",
    ") * lines_ng.hvplot(geo=True, alpha=0.4, hover_cols=[\"line_id\"]).opts(\n",
    "    active_tools=[\"pan\", \"wheel_zoom\"]\n",
    ") * transformers.hvplot(\n",
    "    geo=True, linesize=30, color=\"red\", alpha=0.4, hover_cols=[\"line_id\"]\n",
    ").opts(\n",
    "    active_tools=[\"pan\", \"wheel_zoom\"]\n",
    ")\n",
    "# display (line2network_BLT)     # show plot in the notebook\n",
    "hvplot.save(line2network_BLT, \"documentation/line2network_BLT.html\") # save plot in the path here"
   ]
  }
 ],
 "metadata": {
  "kernelspec": {
   "display_name": "Python 3.10.6",
   "language": "python",
   "name": "python3"
  },
  "language_info": {
   "codemirror_mode": {
    "name": "ipython",
    "version": 3
   },
   "file_extension": ".py",
   "mimetype": "text/x-python",
   "name": "python",
   "nbconvert_exporter": "python",
   "pygments_lexer": "ipython3",
   "version": "3.10.10"
  },
  "vscode": {
   "interpreter": {
    "hash": "fb6c2b36c22b40da864a30a7d6b939e72b89e5bd74379bf749a1c7ce9509a51a"
   }
  }
 },
 "nbformat": 4,
 "nbformat_minor": 5
}
